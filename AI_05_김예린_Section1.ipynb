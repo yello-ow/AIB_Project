{
  "nbformat": 4,
  "nbformat_minor": 0,
  "metadata": {
    "colab": {
      "name": "AI_05_김예린_Section1.ipynb",
      "provenance": [],
      "collapsed_sections": [
        "CbIcIirXUloL",
        "78WwxAuqDJwa",
        "c4NJ_-VVfrLf",
        "B-zQbLPVf0QU",
        "nM8RJybnFh3G",
        "YmhpxJNzi7di",
        "yMQPpMrfUMee",
        "Kroc23tkUbh4",
        "_YJ38Yl6O6A2",
        "m3NcHkuYSI45",
        "ZJ8jWh1dSPg-",
        "Egb2S3_DSYaM",
        "xyQqayk8z-et",
        "Df3cZSnn7J8m",
        "N6sYRLpyR39L",
        "ISrTLpL-3k5F",
        "SybOHcM0e-2E",
        "FHHh169CfJlB",
        "wxFbMfQifXcM",
        "onGDrNlp8Izt",
        "elKDe556-gKO",
        "b7iKZYqX-bWn",
        "BZY_LxD3-3hd",
        "Vl3YJHziBran",
        "2oMYAC0DDSjn"
      ],
      "authorship_tag": "ABX9TyMEeW3tueD2NAbQr/7eQGmU",
      "include_colab_link": true
    },
    "kernelspec": {
      "name": "python3",
      "display_name": "Python 3"
    },
    "language_info": {
      "name": "python"
    }
  },
  "cells": [
    {
      "cell_type": "markdown",
      "metadata": {
        "id": "view-in-github",
        "colab_type": "text"
      },
      "source": [
        "<a href=\"https://colab.research.google.com/github/yello-ow/AIB_Project/blob/main/AI_05_%EA%B9%80%EC%98%88%EB%A6%B0_Section1.ipynb\" target=\"_parent\"><img src=\"https://colab.research.google.com/assets/colab-badge.svg\" alt=\"Open In Colab\"/></a>"
      ]
    },
    {
      "cell_type": "markdown",
      "metadata": {
        "id": "ac6pt8BqvBVu"
      },
      "source": [
        "# **Section1 Project**\n",
        "#### 문제 : 다음 분기에 어떤 게임을 설계해야 할까\n",
        "\n",
        "\n",
        "##### <필수과제> \n",
        "##### 1. 지역에 따라서 선호하는 게임 장르가 다를까\n",
        "##### 2. 연도별 게임의 트렌드가 있을까\n",
        "##### 3. 출고량이 높은 게임에 대한 분석 및 시각화 프로세스"
      ]
    },
    {
      "cell_type": "markdown",
      "metadata": {
        "id": "CbIcIirXUloL"
      },
      "source": [
        "### **데이터 전처리**"
      ]
    },
    {
      "cell_type": "code",
      "metadata": {
        "colab": {
          "base_uri": "https://localhost:8080/"
        },
        "id": "60xIrfW9c4K-",
        "outputId": "f6304da8-a534-4015-c36e-318f4e5c0344"
      },
      "source": [
        "#데이터 불러오기 \n",
        "\n",
        "import pandas as pd\n",
        "\n",
        "url = 'https://ds-lecture-data.s3.ap-northeast-2.amazonaws.com/datasets/vgames2.csv'\n",
        "\n",
        "df = pd.read_csv(url)\n",
        "df = df.iloc[:, 1:]\n",
        "df.head()"
      ],
      "execution_count": null,
      "outputs": [
        {
          "output_type": "execute_result",
          "data": {
            "text/html": [
              "<div>\n",
              "<style scoped>\n",
              "    .dataframe tbody tr th:only-of-type {\n",
              "        vertical-align: middle;\n",
              "    }\n",
              "\n",
              "    .dataframe tbody tr th {\n",
              "        vertical-align: top;\n",
              "    }\n",
              "\n",
              "    .dataframe thead th {\n",
              "        text-align: right;\n",
              "    }\n",
              "</style>\n",
              "<table border=\"1\" class=\"dataframe\">\n",
              "  <thead>\n",
              "    <tr style=\"text-align: right;\">\n",
              "      <th></th>\n",
              "      <th>Name</th>\n",
              "      <th>Platform</th>\n",
              "      <th>Year</th>\n",
              "      <th>Genre</th>\n",
              "      <th>Publisher</th>\n",
              "      <th>NA_Sales</th>\n",
              "      <th>EU_Sales</th>\n",
              "      <th>JP_Sales</th>\n",
              "      <th>Other_Sales</th>\n",
              "    </tr>\n",
              "  </thead>\n",
              "  <tbody>\n",
              "    <tr>\n",
              "      <th>0</th>\n",
              "      <td>Candace Kane's Candy Factory</td>\n",
              "      <td>DS</td>\n",
              "      <td>2008.0</td>\n",
              "      <td>Action</td>\n",
              "      <td>Destineer</td>\n",
              "      <td>0.04</td>\n",
              "      <td>0</td>\n",
              "      <td>0</td>\n",
              "      <td>0</td>\n",
              "    </tr>\n",
              "    <tr>\n",
              "      <th>1</th>\n",
              "      <td>The Munchables</td>\n",
              "      <td>Wii</td>\n",
              "      <td>2009.0</td>\n",
              "      <td>Action</td>\n",
              "      <td>Namco Bandai Games</td>\n",
              "      <td>0.17</td>\n",
              "      <td>0</td>\n",
              "      <td>0</td>\n",
              "      <td>0.01</td>\n",
              "    </tr>\n",
              "    <tr>\n",
              "      <th>2</th>\n",
              "      <td>Otome wa Oanesama Boku ni Koi Shiteru Portable</td>\n",
              "      <td>PSP</td>\n",
              "      <td>2010.0</td>\n",
              "      <td>Adventure</td>\n",
              "      <td>Alchemist</td>\n",
              "      <td>0</td>\n",
              "      <td>0</td>\n",
              "      <td>0.02</td>\n",
              "      <td>0</td>\n",
              "    </tr>\n",
              "    <tr>\n",
              "      <th>3</th>\n",
              "      <td>Deal or No Deal: Special Edition</td>\n",
              "      <td>DS</td>\n",
              "      <td>2010.0</td>\n",
              "      <td>Misc</td>\n",
              "      <td>Zoo Games</td>\n",
              "      <td>0.04</td>\n",
              "      <td>0</td>\n",
              "      <td>0</td>\n",
              "      <td>0</td>\n",
              "    </tr>\n",
              "    <tr>\n",
              "      <th>4</th>\n",
              "      <td>Ben 10 Ultimate Alien: Cosmic Destruction</td>\n",
              "      <td>PS3</td>\n",
              "      <td>2010.0</td>\n",
              "      <td>Platform</td>\n",
              "      <td>D3Publisher</td>\n",
              "      <td>0.12</td>\n",
              "      <td>0.09</td>\n",
              "      <td>0</td>\n",
              "      <td>0.04</td>\n",
              "    </tr>\n",
              "  </tbody>\n",
              "</table>\n",
              "</div>"
            ],
            "text/plain": [
              "                                             Name Platform  ...  JP_Sales Other_Sales\n",
              "0                    Candace Kane's Candy Factory       DS  ...         0           0\n",
              "1                                  The Munchables      Wii  ...         0        0.01\n",
              "2  Otome wa Oanesama Boku ni Koi Shiteru Portable      PSP  ...      0.02           0\n",
              "3                Deal or No Deal: Special Edition       DS  ...         0           0\n",
              "4       Ben 10 Ultimate Alien: Cosmic Destruction      PS3  ...         0        0.04\n",
              "\n",
              "[5 rows x 9 columns]"
            ]
          },
          "metadata": {
            "tags": []
          },
          "execution_count": 1
        }
      ]
    },
    {
      "cell_type": "code",
      "metadata": {
        "colab": {
          "base_uri": "https://localhost:8080/"
        },
        "id": "Y-b_yvv0_aWn",
        "outputId": "853fcd51-b916-4404-e1ea-32b2540f616d"
      },
      "source": [
        "#데이터 타입 확인 \n",
        "df.dtypes"
      ],
      "execution_count": null,
      "outputs": [
        {
          "output_type": "execute_result",
          "data": {
            "text/plain": [
              "Name            object\n",
              "Platform        object\n",
              "Year           float64\n",
              "Genre           object\n",
              "Publisher       object\n",
              "NA_Sales        object\n",
              "EU_Sales        object\n",
              "JP_Sales        object\n",
              "Other_Sales     object\n",
              "dtype: object"
            ]
          },
          "metadata": {
            "tags": []
          },
          "execution_count": 2
        }
      ]
    },
    {
      "cell_type": "code",
      "metadata": {
        "colab": {
          "base_uri": "https://localhost:8080/"
        },
        "id": "iEhQo0pw_ggw",
        "outputId": "2054dc63-68c5-4a6e-a17d-a5044d493aeb"
      },
      "source": [
        "#결측치 확인\n",
        "\n",
        "df.isnull().sum()"
      ],
      "execution_count": null,
      "outputs": [
        {
          "output_type": "execute_result",
          "data": {
            "text/plain": [
              "Name             0\n",
              "Platform         0\n",
              "Year           271\n",
              "Genre           50\n",
              "Publisher       58\n",
              "NA_Sales         0\n",
              "EU_Sales         0\n",
              "JP_Sales         0\n",
              "Other_Sales      0\n",
              "dtype: int64"
            ]
          },
          "metadata": {
            "tags": []
          },
          "execution_count": 3
        }
      ]
    },
    {
      "cell_type": "code",
      "metadata": {
        "colab": {
          "base_uri": "https://localhost:8080/"
        },
        "id": "34IXLOc-Ai5a",
        "outputId": "33fcd968-9098-4f16-a50b-52749aa14dec"
      },
      "source": [
        "#결측치 제거 및 확인 \n",
        "df = df.dropna()\n",
        "df.isnull().sum()"
      ],
      "execution_count": null,
      "outputs": [
        {
          "output_type": "execute_result",
          "data": {
            "text/plain": [
              "Name           0\n",
              "Platform       0\n",
              "Year           0\n",
              "Genre          0\n",
              "Publisher      0\n",
              "NA_Sales       0\n",
              "EU_Sales       0\n",
              "JP_Sales       0\n",
              "Other_Sales    0\n",
              "dtype: int64"
            ]
          },
          "metadata": {
            "tags": []
          },
          "execution_count": 4
        }
      ]
    },
    {
      "cell_type": "code",
      "metadata": {
        "id": "kCbI4HSuCSzb"
      },
      "source": [
        "#[Year] : 4글자 형식으로 동일하게 맞추기 및 글자로 형식 변경\n",
        "\n",
        "date = df['Year']\n",
        "\n",
        "def year(date) :\n",
        "    if  0 <= date <= 20 : \n",
        "        return 2000+date\n",
        "\n",
        "    elif 21 <= date <= 99 :\n",
        "        return 1900+date\n",
        "    \n",
        "    elif 1900<= date < 3000 : \n",
        "        return date\n",
        "\n",
        "df['Year'] = df['Year'].apply(year)\n",
        "df['Year'] = df['Year'].astype(int)\n",
        "df['Year'] = df['Year'].astype(str)"
      ],
      "execution_count": null,
      "outputs": []
    },
    {
      "cell_type": "code",
      "metadata": {
        "id": "x0XR2hnkqs75"
      },
      "source": [
        "#출고량 M단위로 단일화 \n",
        "\n",
        "def sale(amount):\n",
        "  if type(amount) == str:\n",
        "\n",
        "    if 'K' in amount:\n",
        "      amount = pd.to_numeric(amount.replace('K',''))\n",
        "      amount = amount*0.001\n",
        "\n",
        "    elif 'M' in amount:\n",
        "      amount = pd.to_numeric(amount.replace('M',''))\n",
        "\n",
        "  return pd.to_numeric(amount)\n",
        "\n",
        "df['NA_Sales'] = df['NA_Sales'].apply(sale)\n",
        "df['EU_Sales'] = df['EU_Sales'].apply(sale)\n",
        "df['JP_Sales'] = df['JP_Sales'].apply(sale)\n",
        "df['Other_Sales'] = df['Other_Sales'].apply(sale)"
      ],
      "execution_count": null,
      "outputs": []
    },
    {
      "cell_type": "markdown",
      "metadata": {
        "id": "78WwxAuqDJwa"
      },
      "source": [
        "### **지역별 선호도 조사**\n",
        "\n",
        "\n"
      ]
    },
    {
      "cell_type": "markdown",
      "metadata": {
        "id": "c4NJ_-VVfrLf"
      },
      "source": [
        "#### 1. 지역별 Genre 선호도 조사 (필수과제)"
      ]
    },
    {
      "cell_type": "code",
      "metadata": {
        "colab": {
          "base_uri": "https://localhost:8080/"
        },
        "id": "B0GkK9cQ5A2q",
        "outputId": "8af3091d-f4d7-4b89-fc01-16420a74d429"
      },
      "source": [
        "#지역별 Genre 출고량 조사\n",
        "\n",
        "genre = df.groupby('Genre').sum()\n",
        "genre"
      ],
      "execution_count": null,
      "outputs": [
        {
          "output_type": "execute_result",
          "data": {
            "text/html": [
              "<div>\n",
              "<style scoped>\n",
              "    .dataframe tbody tr th:only-of-type {\n",
              "        vertical-align: middle;\n",
              "    }\n",
              "\n",
              "    .dataframe tbody tr th {\n",
              "        vertical-align: top;\n",
              "    }\n",
              "\n",
              "    .dataframe thead th {\n",
              "        text-align: right;\n",
              "    }\n",
              "</style>\n",
              "<table border=\"1\" class=\"dataframe\">\n",
              "  <thead>\n",
              "    <tr style=\"text-align: right;\">\n",
              "      <th></th>\n",
              "      <th>NA_Sales</th>\n",
              "      <th>EU_Sales</th>\n",
              "      <th>JP_Sales</th>\n",
              "      <th>Other_Sales</th>\n",
              "    </tr>\n",
              "    <tr>\n",
              "      <th>Genre</th>\n",
              "      <th></th>\n",
              "      <th></th>\n",
              "      <th></th>\n",
              "      <th></th>\n",
              "    </tr>\n",
              "  </thead>\n",
              "  <tbody>\n",
              "    <tr>\n",
              "      <th>Action</th>\n",
              "      <td>858.75</td>\n",
              "      <td>513.64</td>\n",
              "      <td>156.60</td>\n",
              "      <td>183.99</td>\n",
              "    </tr>\n",
              "    <tr>\n",
              "      <th>Adventure</th>\n",
              "      <td>101.79</td>\n",
              "      <td>63.66</td>\n",
              "      <td>51.87</td>\n",
              "      <td>16.70</td>\n",
              "    </tr>\n",
              "    <tr>\n",
              "      <th>Fighting</th>\n",
              "      <td>220.35</td>\n",
              "      <td>99.90</td>\n",
              "      <td>87.14</td>\n",
              "      <td>36.15</td>\n",
              "    </tr>\n",
              "    <tr>\n",
              "      <th>Misc</th>\n",
              "      <td>394.73</td>\n",
              "      <td>208.15</td>\n",
              "      <td>104.18</td>\n",
              "      <td>72.64</td>\n",
              "    </tr>\n",
              "    <tr>\n",
              "      <th>Platform</th>\n",
              "      <td>445.38</td>\n",
              "      <td>200.63</td>\n",
              "      <td>130.53</td>\n",
              "      <td>51.45</td>\n",
              "    </tr>\n",
              "    <tr>\n",
              "      <th>Puzzle</th>\n",
              "      <td>121.58</td>\n",
              "      <td>50.47</td>\n",
              "      <td>56.24</td>\n",
              "      <td>12.44</td>\n",
              "    </tr>\n",
              "    <tr>\n",
              "      <th>Racing</th>\n",
              "      <td>354.70</td>\n",
              "      <td>235.02</td>\n",
              "      <td>56.32</td>\n",
              "      <td>76.51</td>\n",
              "    </tr>\n",
              "    <tr>\n",
              "      <th>Role-Playing</th>\n",
              "      <td>318.76</td>\n",
              "      <td>183.09</td>\n",
              "      <td>342.93</td>\n",
              "      <td>56.73</td>\n",
              "    </tr>\n",
              "    <tr>\n",
              "      <th>Shooter</th>\n",
              "      <td>574.48</td>\n",
              "      <td>310.23</td>\n",
              "      <td>38.18</td>\n",
              "      <td>101.86</td>\n",
              "    </tr>\n",
              "    <tr>\n",
              "      <th>Simulation</th>\n",
              "      <td>181.43</td>\n",
              "      <td>112.99</td>\n",
              "      <td>63.54</td>\n",
              "      <td>31.32</td>\n",
              "    </tr>\n",
              "    <tr>\n",
              "      <th>Sports</th>\n",
              "      <td>667.26</td>\n",
              "      <td>370.97</td>\n",
              "      <td>134.76</td>\n",
              "      <td>132.35</td>\n",
              "    </tr>\n",
              "    <tr>\n",
              "      <th>Strategy</th>\n",
              "      <td>67.83</td>\n",
              "      <td>44.82</td>\n",
              "      <td>49.10</td>\n",
              "      <td>11.23</td>\n",
              "    </tr>\n",
              "  </tbody>\n",
              "</table>\n",
              "</div>"
            ],
            "text/plain": [
              "              NA_Sales  EU_Sales  JP_Sales  Other_Sales\n",
              "Genre                                                  \n",
              "Action          858.75    513.64    156.60       183.99\n",
              "Adventure       101.79     63.66     51.87        16.70\n",
              "Fighting        220.35     99.90     87.14        36.15\n",
              "Misc            394.73    208.15    104.18        72.64\n",
              "Platform        445.38    200.63    130.53        51.45\n",
              "Puzzle          121.58     50.47     56.24        12.44\n",
              "Racing          354.70    235.02     56.32        76.51\n",
              "Role-Playing    318.76    183.09    342.93        56.73\n",
              "Shooter         574.48    310.23     38.18       101.86\n",
              "Simulation      181.43    112.99     63.54        31.32\n",
              "Sports          667.26    370.97    134.76       132.35\n",
              "Strategy         67.83     44.82     49.10        11.23"
            ]
          },
          "metadata": {
            "tags": []
          },
          "execution_count": 7
        }
      ]
    },
    {
      "cell_type": "code",
      "metadata": {
        "colab": {
          "base_uri": "https://localhost:8080/"
        },
        "id": "WfzYSbPw5-IK",
        "outputId": "106196b8-4a40-4fb8-d898-0c868aa30bf1"
      },
      "source": [
        "#지역별 Genre 출고량 조사 결과 시각화 \n",
        "\n",
        "genre = genre.T\n",
        "import matplotlib.pyplot as plt\n",
        "\n",
        "genre.plot(kind='bar',figsize=(10,6));\n",
        "plt.legend(loc='center left', bbox_to_anchor=(1, 0.5));"
      ],
      "execution_count": null,
      "outputs": [
        {
          "output_type": "display_data",
          "data": {
            "image/png": "[encoded data removed]",
            "text/plain": [
              "<Figure size 720x432 with 1 Axes>"
            ]
          },
          "metadata": {
            "tags": [],
            "needs_background": "light"
          }
        }
      ]
    },
    {
      "cell_type": "markdown",
      "metadata": {
        "id": "7aQzVn6mDo72"
      },
      "source": [
        "- 북미 지역 : **Action > Sports > Shooter** > Platform > Misc\n",
        "- 유럽 지역 :**Action > Sports > Shooter** > Racing > Misc\n",
        "- 일본 지역 : Role-Playing > **Action** > Platform = Sports > Misc\n",
        "- 기타 지역 : **Action > Sports > Shooter** > Racing = Misc\n",
        "\n",
        "결론 : 일본을 제외하고 지역에 따라서 선호하는 게임장르가 동일하다. "
      ]
    },
    {
      "cell_type": "markdown",
      "metadata": {
        "id": "B-zQbLPVf0QU"
      },
      "source": [
        "#### 2. 지역별 Platform 선호도 조사  "
      ]
    },
    {
      "cell_type": "code",
      "metadata": {
        "colab": {
          "base_uri": "https://localhost:8080/"
        },
        "id": "QuqV3j_6fz91",
        "outputId": "a750e584-715b-4f7f-c301-eecb860fe94e"
      },
      "source": [
        "# 지역별 Platform 출고량 조사 \n",
        "\n",
        "platform = df.groupby('Platform').sum()\n",
        "platform"
      ],
      "execution_count": null,
      "outputs": [
        {
          "output_type": "execute_result",
          "data": {
            "text/html": [
              "<div>\n",
              "<style scoped>\n",
              "    .dataframe tbody tr th:only-of-type {\n",
              "        vertical-align: middle;\n",
              "    }\n",
              "\n",
              "    .dataframe tbody tr th {\n",
              "        vertical-align: top;\n",
              "    }\n",
              "\n",
              "    .dataframe thead th {\n",
              "        text-align: right;\n",
              "    }\n",
              "</style>\n",
              "<table border=\"1\" class=\"dataframe\">\n",
              "  <thead>\n",
              "    <tr style=\"text-align: right;\">\n",
              "      <th></th>\n",
              "      <th>NA_Sales</th>\n",
              "      <th>EU_Sales</th>\n",
              "      <th>JP_Sales</th>\n",
              "      <th>Other_Sales</th>\n",
              "    </tr>\n",
              "    <tr>\n",
              "      <th>Platform</th>\n",
              "      <th></th>\n",
              "      <th></th>\n",
              "      <th></th>\n",
              "      <th></th>\n",
              "    </tr>\n",
              "  </thead>\n",
              "  <tbody>\n",
              "    <tr>\n",
              "      <th>2600</th>\n",
              "      <td>80.32</td>\n",
              "      <td>4.83</td>\n",
              "      <td>0.00</td>\n",
              "      <td>0.83</td>\n",
              "    </tr>\n",
              "    <tr>\n",
              "      <th>3DO</th>\n",
              "      <td>0.00</td>\n",
              "      <td>0.00</td>\n",
              "      <td>0.10</td>\n",
              "      <td>0.00</td>\n",
              "    </tr>\n",
              "    <tr>\n",
              "      <th>3DS</th>\n",
              "      <td>72.86</td>\n",
              "      <td>54.24</td>\n",
              "      <td>92.96</td>\n",
              "      <td>11.76</td>\n",
              "    </tr>\n",
              "    <tr>\n",
              "      <th>DC</th>\n",
              "      <td>5.43</td>\n",
              "      <td>1.69</td>\n",
              "      <td>8.56</td>\n",
              "      <td>0.27</td>\n",
              "    </tr>\n",
              "    <tr>\n",
              "      <th>DS</th>\n",
              "      <td>387.93</td>\n",
              "      <td>194.05</td>\n",
              "      <td>174.97</td>\n",
              "      <td>60.24</td>\n",
              "    </tr>\n",
              "    <tr>\n",
              "      <th>GB</th>\n",
              "      <td>113.64</td>\n",
              "      <td>47.51</td>\n",
              "      <td>85.12</td>\n",
              "      <td>8.16</td>\n",
              "    </tr>\n",
              "    <tr>\n",
              "      <th>GBA</th>\n",
              "      <td>178.26</td>\n",
              "      <td>72.43</td>\n",
              "      <td>46.56</td>\n",
              "      <td>7.51</td>\n",
              "    </tr>\n",
              "    <tr>\n",
              "      <th>GC</th>\n",
              "      <td>131.74</td>\n",
              "      <td>38.27</td>\n",
              "      <td>20.90</td>\n",
              "      <td>5.11</td>\n",
              "    </tr>\n",
              "    <tr>\n",
              "      <th>GEN</th>\n",
              "      <td>19.27</td>\n",
              "      <td>5.52</td>\n",
              "      <td>2.67</td>\n",
              "      <td>0.89</td>\n",
              "    </tr>\n",
              "    <tr>\n",
              "      <th>GG</th>\n",
              "      <td>0.00</td>\n",
              "      <td>0.00</td>\n",
              "      <td>0.04</td>\n",
              "      <td>0.00</td>\n",
              "    </tr>\n",
              "    <tr>\n",
              "      <th>N64</th>\n",
              "      <td>138.34</td>\n",
              "      <td>40.67</td>\n",
              "      <td>33.47</td>\n",
              "      <td>4.28</td>\n",
              "    </tr>\n",
              "    <tr>\n",
              "      <th>NES</th>\n",
              "      <td>125.94</td>\n",
              "      <td>21.15</td>\n",
              "      <td>98.65</td>\n",
              "      <td>5.31</td>\n",
              "    </tr>\n",
              "    <tr>\n",
              "      <th>NG</th>\n",
              "      <td>0.00</td>\n",
              "      <td>0.00</td>\n",
              "      <td>1.44</td>\n",
              "      <td>0.00</td>\n",
              "    </tr>\n",
              "    <tr>\n",
              "      <th>PC</th>\n",
              "      <td>92.03</td>\n",
              "      <td>136.51</td>\n",
              "      <td>0.17</td>\n",
              "      <td>24.24</td>\n",
              "    </tr>\n",
              "    <tr>\n",
              "      <th>PCFX</th>\n",
              "      <td>0.00</td>\n",
              "      <td>0.00</td>\n",
              "      <td>0.03</td>\n",
              "      <td>0.00</td>\n",
              "    </tr>\n",
              "    <tr>\n",
              "      <th>PS</th>\n",
              "      <td>333.79</td>\n",
              "      <td>211.75</td>\n",
              "      <td>139.09</td>\n",
              "      <td>40.53</td>\n",
              "    </tr>\n",
              "    <tr>\n",
              "      <th>PS2</th>\n",
              "      <td>568.54</td>\n",
              "      <td>332.03</td>\n",
              "      <td>134.10</td>\n",
              "      <td>187.77</td>\n",
              "    </tr>\n",
              "    <tr>\n",
              "      <th>PS3</th>\n",
              "      <td>388.00</td>\n",
              "      <td>339.71</td>\n",
              "      <td>78.56</td>\n",
              "      <td>140.47</td>\n",
              "    </tr>\n",
              "    <tr>\n",
              "      <th>PS4</th>\n",
              "      <td>95.80</td>\n",
              "      <td>122.94</td>\n",
              "      <td>14.04</td>\n",
              "      <td>43.00</td>\n",
              "    </tr>\n",
              "    <tr>\n",
              "      <th>PSP</th>\n",
              "      <td>106.50</td>\n",
              "      <td>67.15</td>\n",
              "      <td>75.72</td>\n",
              "      <td>41.47</td>\n",
              "    </tr>\n",
              "    <tr>\n",
              "      <th>PSV</th>\n",
              "      <td>16.07</td>\n",
              "      <td>16.27</td>\n",
              "      <td>20.81</td>\n",
              "      <td>8.41</td>\n",
              "    </tr>\n",
              "    <tr>\n",
              "      <th>SAT</th>\n",
              "      <td>0.72</td>\n",
              "      <td>0.54</td>\n",
              "      <td>32.26</td>\n",
              "      <td>0.07</td>\n",
              "    </tr>\n",
              "    <tr>\n",
              "      <th>SCD</th>\n",
              "      <td>1.00</td>\n",
              "      <td>0.36</td>\n",
              "      <td>0.45</td>\n",
              "      <td>0.05</td>\n",
              "    </tr>\n",
              "    <tr>\n",
              "      <th>SNES</th>\n",
              "      <td>61.23</td>\n",
              "      <td>19.04</td>\n",
              "      <td>116.55</td>\n",
              "      <td>3.22</td>\n",
              "    </tr>\n",
              "    <tr>\n",
              "      <th>TG16</th>\n",
              "      <td>0.00</td>\n",
              "      <td>0.00</td>\n",
              "      <td>0.16</td>\n",
              "      <td>0.00</td>\n",
              "    </tr>\n",
              "    <tr>\n",
              "      <th>WS</th>\n",
              "      <td>0.00</td>\n",
              "      <td>0.00</td>\n",
              "      <td>1.42</td>\n",
              "      <td>0.00</td>\n",
              "    </tr>\n",
              "    <tr>\n",
              "      <th>Wii</th>\n",
              "      <td>495.10</td>\n",
              "      <td>260.78</td>\n",
              "      <td>65.79</td>\n",
              "      <td>78.48</td>\n",
              "    </tr>\n",
              "    <tr>\n",
              "      <th>WiiU</th>\n",
              "      <td>38.32</td>\n",
              "      <td>24.23</td>\n",
              "      <td>12.79</td>\n",
              "      <td>6.45</td>\n",
              "    </tr>\n",
              "    <tr>\n",
              "      <th>X360</th>\n",
              "      <td>593.78</td>\n",
              "      <td>277.90</td>\n",
              "      <td>12.29</td>\n",
              "      <td>84.62</td>\n",
              "    </tr>\n",
              "    <tr>\n",
              "      <th>XB</th>\n",
              "      <td>179.24</td>\n",
              "      <td>58.37</td>\n",
              "      <td>1.38</td>\n",
              "      <td>8.31</td>\n",
              "    </tr>\n",
              "    <tr>\n",
              "      <th>XOne</th>\n",
              "      <td>83.19</td>\n",
              "      <td>45.63</td>\n",
              "      <td>0.34</td>\n",
              "      <td>11.92</td>\n",
              "    </tr>\n",
              "  </tbody>\n",
              "</table>\n",
              "</div>"
            ],
            "text/plain": [
              "          NA_Sales  EU_Sales  JP_Sales  Other_Sales\n",
              "Platform                                           \n",
              "2600         80.32      4.83      0.00         0.83\n",
              "3DO           0.00      0.00      0.10         0.00\n",
              "3DS          72.86     54.24     92.96        11.76\n",
              "DC            5.43      1.69      8.56         0.27\n",
              "DS          387.93    194.05    174.97        60.24\n",
              "GB          113.64     47.51     85.12         8.16\n",
              "GBA         178.26     72.43     46.56         7.51\n",
              "GC          131.74     38.27     20.90         5.11\n",
              "GEN          19.27      5.52      2.67         0.89\n",
              "GG            0.00      0.00      0.04         0.00\n",
              "N64         138.34     40.67     33.47         4.28\n",
              "NES         125.94     21.15     98.65         5.31\n",
              "NG            0.00      0.00      1.44         0.00\n",
              "PC           92.03    136.51      0.17        24.24\n",
              "PCFX          0.00      0.00      0.03         0.00\n",
              "PS          333.79    211.75    139.09        40.53\n",
              "PS2         568.54    332.03    134.10       187.77\n",
              "PS3         388.00    339.71     78.56       140.47\n",
              "PS4          95.80    122.94     14.04        43.00\n",
              "PSP         106.50     67.15     75.72        41.47\n",
              "PSV          16.07     16.27     20.81         8.41\n",
              "SAT           0.72      0.54     32.26         0.07\n",
              "SCD           1.00      0.36      0.45         0.05\n",
              "SNES         61.23     19.04    116.55         3.22\n",
              "TG16          0.00      0.00      0.16         0.00\n",
              "WS            0.00      0.00      1.42         0.00\n",
              "Wii         495.10    260.78     65.79        78.48\n",
              "WiiU         38.32     24.23     12.79         6.45\n",
              "X360        593.78    277.90     12.29        84.62\n",
              "XB          179.24     58.37      1.38         8.31\n",
              "XOne         83.19     45.63      0.34        11.92"
            ]
          },
          "metadata": {
            "tags": []
          },
          "execution_count": 9
        }
      ]
    },
    {
      "cell_type": "code",
      "metadata": {
        "colab": {
          "base_uri": "https://localhost:8080/"
        },
        "id": "MDbNNGOlgLIL",
        "outputId": "3fc086c9-982a-4207-8a9f-f15beb1c0adc"
      },
      "source": [
        "#지역별 Platform 출고량 조사 결과 시각화 \n",
        "\n",
        "platform = platform.T\n",
        "\n",
        "platform.plot(kind='bar',figsize=(15,6));\n",
        "plt.legend(loc='center left', bbox_to_anchor=(1, 0.5));"
      ],
      "execution_count": null,
      "outputs": [
        {
          "output_type": "display_data",
          "data": {
            "image/png": "[encoded data removed]",
            "text/plain": [
              "<Figure size 1080x432 with 1 Axes>"
            ]
          },
          "metadata": {
            "tags": [],
            "needs_background": "light"
          }
        }
      ]
    },
    {
      "cell_type": "markdown",
      "metadata": {
        "id": "XrscMP4OhBbq"
      },
      "source": [
        "- 북미 지역 : X360 > PS2 > Wii > PS3 = DS\n",
        "- 유럽 지역 : PS3 > PS2 > X360 > Wii > PS \n",
        "- 일본 지역 : DS > PS > PS2 > SNES > NES\n",
        "- 기타 지역 : PS2 > PS3 > X360 > Wii > DS\n",
        "\n",
        "결론 : 지역별로 Platform 선호도가 다르다. "
      ]
    },
    {
      "cell_type": "markdown",
      "metadata": {
        "id": "nM8RJybnFh3G"
      },
      "source": [
        "### **연도별 게임의 트렌드 조사** (필수과제)"
      ]
    },
    {
      "cell_type": "markdown",
      "metadata": {
        "id": "YmhpxJNzi7di"
      },
      "source": [
        "#### 1. 연도별 장르 선호도 조사"
      ]
    },
    {
      "cell_type": "code",
      "metadata": {
        "id": "nIzj1e1vUHRL"
      },
      "source": [
        "#세계 게임 출고량 조사\n",
        "\n",
        "df['Total_Sales'] = df['NA_Sales'] + df['EU_Sales'] + df['JP_Sales'] + df['Other_Sales']"
      ],
      "execution_count": null,
      "outputs": []
    },
    {
      "cell_type": "code",
      "metadata": {
        "colab": {
          "base_uri": "https://localhost:8080/",
          "height": 450
        },
        "id": "EI7R6iR2GFmK",
        "outputId": "e1c1910d-620d-40db-c128-a0be4e6d2c6b"
      },
      "source": [
        "#연도별 세계 게임 출고량 조사 \n",
        "\n",
        "year_sales = df.groupby(['Year','Genre']).sum()\n",
        "year_sales = year_sales[['Total_Sales']]\n",
        "year_sales"
      ],
      "execution_count": null,
      "outputs": [
        {
          "output_type": "execute_result",
          "data": {
            "text/html": [
              "<div>\n",
              "<style scoped>\n",
              "    .dataframe tbody tr th:only-of-type {\n",
              "        vertical-align: middle;\n",
              "    }\n",
              "\n",
              "    .dataframe tbody tr th {\n",
              "        vertical-align: top;\n",
              "    }\n",
              "\n",
              "    .dataframe thead th {\n",
              "        text-align: right;\n",
              "    }\n",
              "</style>\n",
              "<table border=\"1\" class=\"dataframe\">\n",
              "  <thead>\n",
              "    <tr style=\"text-align: right;\">\n",
              "      <th></th>\n",
              "      <th></th>\n",
              "      <th>Total_Sales</th>\n",
              "    </tr>\n",
              "    <tr>\n",
              "      <th>Year</th>\n",
              "      <th>Genre</th>\n",
              "      <th></th>\n",
              "    </tr>\n",
              "  </thead>\n",
              "  <tbody>\n",
              "    <tr>\n",
              "      <th rowspan=\"4\" valign=\"top\">1980</th>\n",
              "      <th>Action</th>\n",
              "      <td>0.34</td>\n",
              "    </tr>\n",
              "    <tr>\n",
              "      <th>Fighting</th>\n",
              "      <td>0.77</td>\n",
              "    </tr>\n",
              "    <tr>\n",
              "      <th>Misc</th>\n",
              "      <td>2.70</td>\n",
              "    </tr>\n",
              "    <tr>\n",
              "      <th>Shooter</th>\n",
              "      <td>7.07</td>\n",
              "    </tr>\n",
              "    <tr>\n",
              "      <th>1981</th>\n",
              "      <th>Action</th>\n",
              "      <td>14.79</td>\n",
              "    </tr>\n",
              "    <tr>\n",
              "      <th>...</th>\n",
              "      <th>...</th>\n",
              "      <td>...</td>\n",
              "    </tr>\n",
              "    <tr>\n",
              "      <th rowspan=\"2\" valign=\"top\">2016</th>\n",
              "      <th>Sports</th>\n",
              "      <td>14.63</td>\n",
              "    </tr>\n",
              "    <tr>\n",
              "      <th>Strategy</th>\n",
              "      <td>0.52</td>\n",
              "    </tr>\n",
              "    <tr>\n",
              "      <th rowspan=\"2\" valign=\"top\">2017</th>\n",
              "      <th>Action</th>\n",
              "      <td>0.01</td>\n",
              "    </tr>\n",
              "    <tr>\n",
              "      <th>Role-Playing</th>\n",
              "      <td>0.04</td>\n",
              "    </tr>\n",
              "    <tr>\n",
              "      <th>2020</th>\n",
              "      <th>Simulation</th>\n",
              "      <td>0.29</td>\n",
              "    </tr>\n",
              "  </tbody>\n",
              "</table>\n",
              "<p>388 rows × 1 columns</p>\n",
              "</div>"
            ],
            "text/plain": [
              "                   Total_Sales\n",
              "Year Genre                    \n",
              "1980 Action               0.34\n",
              "     Fighting             0.77\n",
              "     Misc                 2.70\n",
              "     Shooter              7.07\n",
              "1981 Action              14.79\n",
              "...                        ...\n",
              "2016 Sports              14.63\n",
              "     Strategy             0.52\n",
              "2017 Action               0.01\n",
              "     Role-Playing         0.04\n",
              "2020 Simulation           0.29\n",
              "\n",
              "[388 rows x 1 columns]"
            ]
          },
          "metadata": {
            "tags": []
          },
          "execution_count": 12
        }
      ]
    },
    {
      "cell_type": "markdown",
      "metadata": {
        "id": "TUV2PXxJiaWw"
      },
      "source": [
        "연도별 게임 세계 출고량 시각화 방법 \n",
        "\n",
        "- year_sales를 pivot_table로 바꾸고 stacked bar 그리기 \n",
        "- year_slaes를 unstack하고 stacked bar 그리기 \n",
        "- year_sales를 pivot_table로 바꾸고 T한 후 Heatmap 그리기\n",
        "\n",
        "(*pivot_table과 unstack의 결과 동일, 그래프 결과도 동일)"
      ]
    },
    {
      "cell_type": "code",
      "metadata": {
        "id": "VeqwFSW_J20T"
      },
      "source": [
        "#1-1. pivot_table로 바꾸기 \n",
        "\n",
        "year_sales_p = year_sales.reset_index() # pivot_table로 바꾸려면 reset_index필요 \n",
        "pivot_df = year_sales_p.pivot(index='Year', columns='Genre')\n",
        "\n",
        "#1-2. Stacked bar로 시각화 \n",
        "#pivot_df.plot.bar(stacked=True, legend='reverse', figsize=(15,8)); #legend='reverse': legend의 순서를 Bar segment와 일치"
      ],
      "execution_count": null,
      "outputs": []
    },
    {
      "cell_type": "code",
      "metadata": {
        "colab": {
          "base_uri": "https://localhost:8080/",
          "height": 512
        },
        "id": "t1r3kkXJgbpr",
        "outputId": "9ec81ba9-875c-4cb7-815d-d3bb30203ca8"
      },
      "source": [
        "#2. year_slaes를 unstack하고 stacked bar 그리기\n",
        "\n",
        "%matplotlib inline\n",
        "year_sales.unstack().plot(kind='bar', stacked=True, legend='reverse', figsize=(15,8)); #unstack() : pivot_table과 동일한 결과 "
      ],
      "execution_count": null,
      "outputs": [
        {
          "output_type": "display_data",
          "data": {
            "image/png": "[encoded data removed]",
            "text/plain": [
              "<Figure size 1080x576 with 1 Axes>"
            ]
          },
          "metadata": {
            "tags": [],
            "needs_background": "light"
          }
        }
      ]
    },
    {
      "cell_type": "code",
      "metadata": {
        "colab": {
          "base_uri": "https://localhost:8080/",
          "height": 715
        },
        "id": "Ji4N1Jz7GRM2",
        "outputId": "a33cd27d-3ec9-4c3a-aba7-2c8415d156c1"
      },
      "source": [
        "# 3. year_sales를 pivot_table로 바꾸고 Heatmap 그리기\n",
        "pivot_df = pivot_df.fillna(0) # 결측치를 0으로 대체\n",
        "\n",
        "import seaborn as sns\n",
        "plt.figure(figsize=(10,10)) #heatmap 사이즈 지정\n",
        "sns.heatmap(pivot_df, cmap = 'inferno' ,linewidths=0.5) #pivot_df 데이터로 heatmap 그리기 \n",
        "plt.show() "
      ],
      "execution_count": null,
      "outputs": [
        {
          "output_type": "display_data",
          "data": {
            "image/png": "[encoded data removed]",
            "text/plain": [
              "<Figure size 720x720 with 2 Axes>"
            ]
          },
          "metadata": {
            "tags": [],
            "needs_background": "light"
          }
        }
      ]
    },
    {
      "cell_type": "markdown",
      "metadata": {
        "id": "yMQPpMrfUMee"
      },
      "source": [
        "#### 2. 연도별 출시 장르 조사  "
      ]
    },
    {
      "cell_type": "code",
      "metadata": {
        "colab": {
          "base_uri": "https://localhost:8080/",
          "height": 419
        },
        "id": "RQkLP2z7Rn-K",
        "outputId": "58e7db8e-5306-4e13-e2b6-5c9db0087ad5"
      },
      "source": [
        "year_counts = df.value_counts(['Year','Genre'])\n",
        "year_counts\n",
        "\n",
        "year_df = pd.DataFrame(year_counts)\n",
        "year_df = year_df.reset_index()\n",
        "year_df = year_df.sort_values(by=['Year'], axis=0)\n",
        "year_df"
      ],
      "execution_count": null,
      "outputs": [
        {
          "output_type": "execute_result",
          "data": {
            "text/html": [
              "<div>\n",
              "<style scoped>\n",
              "    .dataframe tbody tr th:only-of-type {\n",
              "        vertical-align: middle;\n",
              "    }\n",
              "\n",
              "    .dataframe tbody tr th {\n",
              "        vertical-align: top;\n",
              "    }\n",
              "\n",
              "    .dataframe thead th {\n",
              "        text-align: right;\n",
              "    }\n",
              "</style>\n",
              "<table border=\"1\" class=\"dataframe\">\n",
              "  <thead>\n",
              "    <tr style=\"text-align: right;\">\n",
              "      <th></th>\n",
              "      <th>Year</th>\n",
              "      <th>Genre</th>\n",
              "      <th>0</th>\n",
              "    </tr>\n",
              "  </thead>\n",
              "  <tbody>\n",
              "    <tr>\n",
              "      <th>387</th>\n",
              "      <td>1980</td>\n",
              "      <td>Action</td>\n",
              "      <td>1</td>\n",
              "    </tr>\n",
              "    <tr>\n",
              "      <th>360</th>\n",
              "      <td>1980</td>\n",
              "      <td>Fighting</td>\n",
              "      <td>1</td>\n",
              "    </tr>\n",
              "    <tr>\n",
              "      <th>351</th>\n",
              "      <td>1980</td>\n",
              "      <td>Shooter</td>\n",
              "      <td>2</td>\n",
              "    </tr>\n",
              "    <tr>\n",
              "      <th>305</th>\n",
              "      <td>1980</td>\n",
              "      <td>Misc</td>\n",
              "      <td>4</td>\n",
              "    </tr>\n",
              "    <tr>\n",
              "      <th>342</th>\n",
              "      <td>1981</td>\n",
              "      <td>Puzzle</td>\n",
              "      <td>2</td>\n",
              "    </tr>\n",
              "    <tr>\n",
              "      <th>...</th>\n",
              "      <td>...</td>\n",
              "      <td>...</td>\n",
              "      <td>...</td>\n",
              "    </tr>\n",
              "    <tr>\n",
              "      <th>235</th>\n",
              "      <td>2016</td>\n",
              "      <td>Fighting</td>\n",
              "      <td>14</td>\n",
              "    </tr>\n",
              "    <tr>\n",
              "      <th>32</th>\n",
              "      <td>2016</td>\n",
              "      <td>Action</td>\n",
              "      <td>118</td>\n",
              "    </tr>\n",
              "    <tr>\n",
              "      <th>365</th>\n",
              "      <td>2017</td>\n",
              "      <td>Action</td>\n",
              "      <td>1</td>\n",
              "    </tr>\n",
              "    <tr>\n",
              "      <th>344</th>\n",
              "      <td>2017</td>\n",
              "      <td>Role-Playing</td>\n",
              "      <td>2</td>\n",
              "    </tr>\n",
              "    <tr>\n",
              "      <th>362</th>\n",
              "      <td>2020</td>\n",
              "      <td>Simulation</td>\n",
              "      <td>1</td>\n",
              "    </tr>\n",
              "  </tbody>\n",
              "</table>\n",
              "<p>388 rows × 3 columns</p>\n",
              "</div>"
            ],
            "text/plain": [
              "     Year         Genre    0\n",
              "387  1980        Action    1\n",
              "360  1980      Fighting    1\n",
              "351  1980       Shooter    2\n",
              "305  1980          Misc    4\n",
              "342  1981        Puzzle    2\n",
              "..    ...           ...  ...\n",
              "235  2016      Fighting   14\n",
              "32   2016        Action  118\n",
              "365  2017        Action    1\n",
              "344  2017  Role-Playing    2\n",
              "362  2020    Simulation    1\n",
              "\n",
              "[388 rows x 3 columns]"
            ]
          },
          "metadata": {
            "tags": []
          },
          "execution_count": 16
        }
      ]
    },
    {
      "cell_type": "code",
      "metadata": {
        "id": "F7JkOrmuSplO"
      },
      "source": [
        "pivot_year = year_df.pivot(index='Year', columns='Genre')\n",
        "pivot_year = pivot_year.fillna(0)"
      ],
      "execution_count": null,
      "outputs": []
    },
    {
      "cell_type": "code",
      "metadata": {
        "colab": {
          "base_uri": "https://localhost:8080/",
          "height": 667
        },
        "id": "BB6ApYS6S-S8",
        "outputId": "d8ab4e62-534f-4f10-a37a-bf2114b50ac4"
      },
      "source": [
        "plt.figure(figsize=(10,10)) #heatmap 사이즈 지정\n",
        "sns.heatmap(pivot_year, cmap = 'inferno' ,linewidths=0.5) #pivot_t 데이터로 heatmap 그리기 \n",
        "plt.show() "
      ],
      "execution_count": null,
      "outputs": [
        {
          "output_type": "display_data",
          "data": {
            "image/png": "[encoded data removed]",
            "text/plain": [
              "<Figure size 720x720 with 2 Axes>"
            ]
          },
          "metadata": {
            "tags": [],
            "needs_background": "light"
          }
        }
      ]
    },
    {
      "cell_type": "markdown",
      "metadata": {
        "id": "Kroc23tkUbh4"
      },
      "source": [
        "#### 3. 연도별 출시 플랫폼 조사 "
      ]
    },
    {
      "cell_type": "code",
      "metadata": {
        "colab": {
          "base_uri": "https://localhost:8080/"
        },
        "id": "Uaz1_7emUo6B",
        "outputId": "b5619eb1-4616-4985-a96a-10aa400f05e7"
      },
      "source": [
        "platform_counts = df.value_counts(['Year','Platform'])\n",
        "platform_df = pd.DataFrame(platform_counts)\n",
        "platform_df = platform_df.reset_index()\n",
        "platform_df = platform_df.sort_values(by=['Year'], axis=0)\n",
        "platform_df"
      ],
      "execution_count": null,
      "outputs": [
        {
          "output_type": "execute_result",
          "data": {
            "text/html": [
              "<div>\n",
              "<style scoped>\n",
              "    .dataframe tbody tr th:only-of-type {\n",
              "        vertical-align: middle;\n",
              "    }\n",
              "\n",
              "    .dataframe tbody tr th {\n",
              "        vertical-align: top;\n",
              "    }\n",
              "\n",
              "    .dataframe thead th {\n",
              "        text-align: right;\n",
              "    }\n",
              "</style>\n",
              "<table border=\"1\" class=\"dataframe\">\n",
              "  <thead>\n",
              "    <tr style=\"text-align: right;\">\n",
              "      <th></th>\n",
              "      <th>Year</th>\n",
              "      <th>Platform</th>\n",
              "      <th>0</th>\n",
              "    </tr>\n",
              "  </thead>\n",
              "  <tbody>\n",
              "    <tr>\n",
              "      <th>166</th>\n",
              "      <td>1980</td>\n",
              "      <td>2600</td>\n",
              "      <td>8</td>\n",
              "    </tr>\n",
              "    <tr>\n",
              "      <th>101</th>\n",
              "      <td>1981</td>\n",
              "      <td>2600</td>\n",
              "      <td>46</td>\n",
              "    </tr>\n",
              "    <tr>\n",
              "      <th>114</th>\n",
              "      <td>1982</td>\n",
              "      <td>2600</td>\n",
              "      <td>36</td>\n",
              "    </tr>\n",
              "    <tr>\n",
              "      <th>182</th>\n",
              "      <td>1983</td>\n",
              "      <td>NES</td>\n",
              "      <td>6</td>\n",
              "    </tr>\n",
              "    <tr>\n",
              "      <th>153</th>\n",
              "      <td>1983</td>\n",
              "      <td>2600</td>\n",
              "      <td>11</td>\n",
              "    </tr>\n",
              "    <tr>\n",
              "      <th>...</th>\n",
              "      <td>...</td>\n",
              "      <td>...</td>\n",
              "      <td>...</td>\n",
              "    </tr>\n",
              "    <tr>\n",
              "      <th>121</th>\n",
              "      <td>2016</td>\n",
              "      <td>PS3</td>\n",
              "      <td>32</td>\n",
              "    </tr>\n",
              "    <tr>\n",
              "      <th>156</th>\n",
              "      <td>2016</td>\n",
              "      <td>WiiU</td>\n",
              "      <td>10</td>\n",
              "    </tr>\n",
              "    <tr>\n",
              "      <th>205</th>\n",
              "      <td>2017</td>\n",
              "      <td>PSV</td>\n",
              "      <td>2</td>\n",
              "    </tr>\n",
              "    <tr>\n",
              "      <th>216</th>\n",
              "      <td>2017</td>\n",
              "      <td>PS4</td>\n",
              "      <td>1</td>\n",
              "    </tr>\n",
              "    <tr>\n",
              "      <th>240</th>\n",
              "      <td>2020</td>\n",
              "      <td>DS</td>\n",
              "      <td>1</td>\n",
              "    </tr>\n",
              "  </tbody>\n",
              "</table>\n",
              "<p>241 rows × 3 columns</p>\n",
              "</div>"
            ],
            "text/plain": [
              "     Year Platform   0\n",
              "166  1980     2600   8\n",
              "101  1981     2600  46\n",
              "114  1982     2600  36\n",
              "182  1983      NES   6\n",
              "153  1983     2600  11\n",
              "..    ...      ...  ..\n",
              "121  2016      PS3  32\n",
              "156  2016     WiiU  10\n",
              "205  2017      PSV   2\n",
              "216  2017      PS4   1\n",
              "240  2020       DS   1\n",
              "\n",
              "[241 rows x 3 columns]"
            ]
          },
          "metadata": {
            "tags": []
          },
          "execution_count": 19
        }
      ]
    },
    {
      "cell_type": "code",
      "metadata": {
        "id": "E75X-LxiU8am"
      },
      "source": [
        "pivot_platform = platform_df.pivot(index='Year', columns='Platform')\n",
        "pivot_platform = pivot_platform.fillna(0)"
      ],
      "execution_count": null,
      "outputs": []
    },
    {
      "cell_type": "code",
      "metadata": {
        "colab": {
          "base_uri": "https://localhost:8080/"
        },
        "id": "xEKLeNaXVM7t",
        "outputId": "25981832-ab14-4358-eddd-88135a8ba915"
      },
      "source": [
        "plt.figure(figsize=(15,10)) #heatmap 사이즈 지정\n",
        "sns.heatmap(pivot_platform, cmap = 'inferno' ,linewidths=0.5) #pivot_t 데이터로 heatmap 그리기 \n",
        "plt.show() "
      ],
      "execution_count": null,
      "outputs": [
        {
          "output_type": "display_data",
          "data": {
            "image/png": "[encoded data removed]",
            "text/plain": [
              "<Figure size 1080x720 with 2 Axes>"
            ]
          },
          "metadata": {
            "tags": [],
            "needs_background": "light"
          }
        }
      ]
    },
    {
      "cell_type": "markdown",
      "metadata": {
        "id": "3uZ3oBB0k6qy"
      },
      "source": [
        "### **전체 출고량 기준 선호도 조사**"
      ]
    },
    {
      "cell_type": "markdown",
      "metadata": {
        "id": "_YJ38Yl6O6A2"
      },
      "source": [
        "#### 1. 전체 출고량 Top50 Game 조사 (필수과제)"
      ]
    },
    {
      "cell_type": "code",
      "metadata": {
        "id": "IC1BTBxZNaUB"
      },
      "source": [
        "# 전체 출고량이 높은 Game 50개 조사 \n",
        "\n",
        "game_top = df.sort_values(by=['Total_Sales'], axis=0, ascending=False).head(50)\n",
        "game_top = game_top[['Name', 'Platform', 'Year', 'Genre', 'Publisher', 'Total_Sales']]"
      ],
      "execution_count": null,
      "outputs": []
    },
    {
      "cell_type": "markdown",
      "metadata": {
        "id": "m3NcHkuYSI45"
      },
      "source": [
        "##### 1-1. 전체 출고량 Top50 Game의 Publisher 조사"
      ]
    },
    {
      "cell_type": "code",
      "metadata": {
        "colab": {
          "base_uri": "https://localhost:8080/"
        },
        "id": "47XvU2-zNMls",
        "outputId": "e591634c-1e25-4ddf-d811-9f44e3e279f1"
      },
      "source": [
        "#전체 출고량이 높은 Game 50개의 Publisher 조사\n",
        "\n",
        "t_publisher = game_top.value_counts(['Publisher'])\n",
        "t_pb_df = pd.DataFrame(t_publisher, columns = ['Counts'])\n",
        "t_pb_df = t_pb_df.reset_index()\n",
        "t_pb_df"
      ],
      "execution_count": null,
      "outputs": [
        {
          "output_type": "execute_result",
          "data": {
            "text/html": [
              "<div>\n",
              "<style scoped>\n",
              "    .dataframe tbody tr th:only-of-type {\n",
              "        vertical-align: middle;\n",
              "    }\n",
              "\n",
              "    .dataframe tbody tr th {\n",
              "        vertical-align: top;\n",
              "    }\n",
              "\n",
              "    .dataframe thead th {\n",
              "        text-align: right;\n",
              "    }\n",
              "</style>\n",
              "<table border=\"1\" class=\"dataframe\">\n",
              "  <thead>\n",
              "    <tr style=\"text-align: right;\">\n",
              "      <th></th>\n",
              "      <th>Publisher</th>\n",
              "      <th>Counts</th>\n",
              "    </tr>\n",
              "  </thead>\n",
              "  <tbody>\n",
              "    <tr>\n",
              "      <th>0</th>\n",
              "      <td>Nintendo</td>\n",
              "      <td>32</td>\n",
              "    </tr>\n",
              "    <tr>\n",
              "      <th>1</th>\n",
              "      <td>Activision</td>\n",
              "      <td>8</td>\n",
              "    </tr>\n",
              "    <tr>\n",
              "      <th>2</th>\n",
              "      <td>Take-Two Interactive</td>\n",
              "      <td>6</td>\n",
              "    </tr>\n",
              "    <tr>\n",
              "      <th>3</th>\n",
              "      <td>Sony Computer Entertainment</td>\n",
              "      <td>2</td>\n",
              "    </tr>\n",
              "    <tr>\n",
              "      <th>4</th>\n",
              "      <td>Microsoft Game Studios</td>\n",
              "      <td>2</td>\n",
              "    </tr>\n",
              "  </tbody>\n",
              "</table>\n",
              "</div>"
            ],
            "text/plain": [
              "                     Publisher  Counts\n",
              "0                     Nintendo      32\n",
              "1                   Activision       8\n",
              "2         Take-Two Interactive       6\n",
              "3  Sony Computer Entertainment       2\n",
              "4       Microsoft Game Studios       2"
            ]
          },
          "metadata": {
            "tags": []
          },
          "execution_count": 23
        }
      ]
    },
    {
      "cell_type": "code",
      "metadata": {
        "colab": {
          "base_uri": "https://localhost:8080/"
        },
        "id": "N-Z2ZDz4NmxK",
        "outputId": "c9d0cd2e-4825-4464-eeed-7d2551108540"
      },
      "source": [
        "# 전체 출고량이 높은 Game 50개의 Publisher 조사 결과 시각화\n",
        "sns.barplot(x='Counts', y='Publisher', data=t_pb_df);"
      ],
      "execution_count": null,
      "outputs": [
        {
          "output_type": "display_data",
          "data": {
            "image/png": "[encoded data removed]",
            "text/plain": [
              "<Figure size 432x288 with 1 Axes>"
            ]
          },
          "metadata": {
            "tags": [],
            "needs_background": "light"
          }
        }
      ]
    },
    {
      "cell_type": "markdown",
      "metadata": {
        "id": "ZJ8jWh1dSPg-"
      },
      "source": [
        "##### 1-2. 전체 출고량 Top50 Game의 Platform 조사"
      ]
    },
    {
      "cell_type": "code",
      "metadata": {
        "id": "Ct4FmcO4b3sx"
      },
      "source": [
        "# 전체 출고량이 높은 Game 50개의 Platform 조사 \n",
        "t_platform = game_top.value_counts(['Platform'])\n",
        "\n",
        "t_p_df = pd.DataFrame(t_platform, columns = ['Counts'])\n",
        "t_p_df = t_p_df.reset_index()"
      ],
      "execution_count": null,
      "outputs": []
    },
    {
      "cell_type": "code",
      "metadata": {
        "colab": {
          "base_uri": "https://localhost:8080/"
        },
        "id": "Ho4Z5qFsvrx5",
        "outputId": "620d2d38-08d3-445d-b2cd-5f6aece25f5d"
      },
      "source": [
        "# 전체 출고량이 높은 Game 50개의 Platform 조사 결과 시각화\n",
        "sns.barplot(x='Counts',y='Platform', data=t_p_df);"
      ],
      "execution_count": null,
      "outputs": [
        {
          "output_type": "display_data",
          "data": {
            "image/png": "[encoded data removed]",
            "text/plain": [
              "<Figure size 432x288 with 1 Axes>"
            ]
          },
          "metadata": {
            "tags": [],
            "needs_background": "light"
          }
        }
      ]
    },
    {
      "cell_type": "markdown",
      "metadata": {
        "id": "Egb2S3_DSYaM"
      },
      "source": [
        "##### 1-3. 전체 출고량 Top50 Game의 Genre 조사"
      ]
    },
    {
      "cell_type": "code",
      "metadata": {
        "id": "YSIb2Y5FeWt5"
      },
      "source": [
        "# 전체 출고량이 높은 Game 50개의 Genre 조사 \n",
        "t_genre = game_top.value_counts(['Genre'])\n",
        "\n",
        "t_g_df = pd.DataFrame(t_genre, columns = ['Counts'])\n",
        "t_g_df = t_g_df.reset_index()"
      ],
      "execution_count": null,
      "outputs": []
    },
    {
      "cell_type": "code",
      "metadata": {
        "colab": {
          "base_uri": "https://localhost:8080/"
        },
        "id": "ADq8Gi2kwy-Z",
        "outputId": "421e4150-55c4-4391-8d6b-9af8974ab819"
      },
      "source": [
        "# 전체 출고량이 높은 Game 50개의 Genre 조사 결과 시각화\n",
        "sns.barplot(x='Counts', y='Genre', data=t_g_df);"
      ],
      "execution_count": null,
      "outputs": [
        {
          "output_type": "display_data",
          "data": {
            "image/png": "[encoded data removed]",
            "text/plain": [
              "<Figure size 432x288 with 1 Axes>"
            ]
          },
          "metadata": {
            "tags": [],
            "needs_background": "light"
          }
        }
      ]
    },
    {
      "cell_type": "markdown",
      "metadata": {
        "id": "xyQqayk8z-et"
      },
      "source": [
        "#### 2. 전체 출고량 Top5 Platform\n",
        "\n"
      ]
    },
    {
      "cell_type": "code",
      "metadata": {
        "id": "_ZO2pzJGpIXv",
        "colab": {
          "base_uri": "https://localhost:8080/"
        },
        "outputId": "8224dbb0-ec53-443a-c065-73d42c24f8bf"
      },
      "source": [
        "# 전체 출고량 Top5 Platform 조사\n",
        "\n",
        "platform_top5 = df.groupby('Platform').sum()\n",
        "platform_top5 = platform_top5.sort_values(by=['Total_Sales'], axis=0, ascending=False).head(5)\n",
        "platform_top5 = platform_top5.reset_index()\n",
        "\n",
        "platform_top5"
      ],
      "execution_count": null,
      "outputs": [
        {
          "output_type": "execute_result",
          "data": {
            "text/html": [
              "<div>\n",
              "<style scoped>\n",
              "    .dataframe tbody tr th:only-of-type {\n",
              "        vertical-align: middle;\n",
              "    }\n",
              "\n",
              "    .dataframe tbody tr th {\n",
              "        vertical-align: top;\n",
              "    }\n",
              "\n",
              "    .dataframe thead th {\n",
              "        text-align: right;\n",
              "    }\n",
              "</style>\n",
              "<table border=\"1\" class=\"dataframe\">\n",
              "  <thead>\n",
              "    <tr style=\"text-align: right;\">\n",
              "      <th></th>\n",
              "      <th>Platform</th>\n",
              "      <th>NA_Sales</th>\n",
              "      <th>EU_Sales</th>\n",
              "      <th>JP_Sales</th>\n",
              "      <th>Other_Sales</th>\n",
              "      <th>Total_Sales</th>\n",
              "    </tr>\n",
              "  </thead>\n",
              "  <tbody>\n",
              "    <tr>\n",
              "      <th>0</th>\n",
              "      <td>PS2</td>\n",
              "      <td>568.54</td>\n",
              "      <td>332.03</td>\n",
              "      <td>134.10</td>\n",
              "      <td>187.77</td>\n",
              "      <td>1222.44</td>\n",
              "    </tr>\n",
              "    <tr>\n",
              "      <th>1</th>\n",
              "      <td>X360</td>\n",
              "      <td>593.78</td>\n",
              "      <td>277.90</td>\n",
              "      <td>12.29</td>\n",
              "      <td>84.62</td>\n",
              "      <td>968.59</td>\n",
              "    </tr>\n",
              "    <tr>\n",
              "      <th>2</th>\n",
              "      <td>PS3</td>\n",
              "      <td>388.00</td>\n",
              "      <td>339.71</td>\n",
              "      <td>78.56</td>\n",
              "      <td>140.47</td>\n",
              "      <td>946.74</td>\n",
              "    </tr>\n",
              "    <tr>\n",
              "      <th>3</th>\n",
              "      <td>Wii</td>\n",
              "      <td>495.10</td>\n",
              "      <td>260.78</td>\n",
              "      <td>65.79</td>\n",
              "      <td>78.48</td>\n",
              "      <td>900.15</td>\n",
              "    </tr>\n",
              "    <tr>\n",
              "      <th>4</th>\n",
              "      <td>DS</td>\n",
              "      <td>387.93</td>\n",
              "      <td>194.05</td>\n",
              "      <td>174.97</td>\n",
              "      <td>60.24</td>\n",
              "      <td>817.19</td>\n",
              "    </tr>\n",
              "  </tbody>\n",
              "</table>\n",
              "</div>"
            ],
            "text/plain": [
              "  Platform  NA_Sales  EU_Sales  JP_Sales  Other_Sales  Total_Sales\n",
              "0      PS2    568.54    332.03    134.10       187.77      1222.44\n",
              "1     X360    593.78    277.90     12.29        84.62       968.59\n",
              "2      PS3    388.00    339.71     78.56       140.47       946.74\n",
              "3      Wii    495.10    260.78     65.79        78.48       900.15\n",
              "4       DS    387.93    194.05    174.97        60.24       817.19"
            ]
          },
          "metadata": {
            "tags": []
          },
          "execution_count": 29
        }
      ]
    },
    {
      "cell_type": "code",
      "metadata": {
        "colab": {
          "base_uri": "https://localhost:8080/"
        },
        "id": "nAf_4gkJtQlZ",
        "outputId": "88f7406e-91e5-4c7f-f394-de9eee53821e"
      },
      "source": [
        "# 전체 출고량 Top5 Platform 조사 결과 시각화 \n",
        "\n",
        "sns.barplot(x='Total_Sales', y='Platform', data=platform_top5).set_title('Top 5 Platform');"
      ],
      "execution_count": null,
      "outputs": [
        {
          "output_type": "display_data",
          "data": {
            "image/png": "[encoded data removed]",
            "text/plain": [
              "<Figure size 432x288 with 1 Axes>"
            ]
          },
          "metadata": {
            "tags": [],
            "needs_background": "light"
          }
        }
      ]
    },
    {
      "cell_type": "markdown",
      "metadata": {
        "id": "dhSamnx4uQn8"
      },
      "source": [
        "전체 출고량 Top5 **Platform** :\n",
        "\n",
        "PS2 > X360 > PS3 > Wii > DS "
      ]
    },
    {
      "cell_type": "markdown",
      "metadata": {
        "id": "Df3cZSnn7J8m"
      },
      "source": [
        "#### 3. 전체 출고량 Top5 Genre"
      ]
    },
    {
      "cell_type": "code",
      "metadata": {
        "id": "-Q8AlH2s7QiN",
        "colab": {
          "base_uri": "https://localhost:8080/"
        },
        "outputId": "aa091855-8d1c-435b-ad0a-3329465ee6a5"
      },
      "source": [
        "# 전체 출고량 Top5 Genre 조사\n",
        "\n",
        "genre_top5 = df.groupby('Genre').sum()\n",
        "genre_top5 = genre_top5.sort_values(by=['Total_Sales'], axis=0, ascending=False).head(5)\n",
        "genre_top5 = genre_top5.reset_index()\n",
        "\n",
        "genre_top5"
      ],
      "execution_count": null,
      "outputs": [
        {
          "output_type": "execute_result",
          "data": {
            "text/html": [
              "<div>\n",
              "<style scoped>\n",
              "    .dataframe tbody tr th:only-of-type {\n",
              "        vertical-align: middle;\n",
              "    }\n",
              "\n",
              "    .dataframe tbody tr th {\n",
              "        vertical-align: top;\n",
              "    }\n",
              "\n",
              "    .dataframe thead th {\n",
              "        text-align: right;\n",
              "    }\n",
              "</style>\n",
              "<table border=\"1\" class=\"dataframe\">\n",
              "  <thead>\n",
              "    <tr style=\"text-align: right;\">\n",
              "      <th></th>\n",
              "      <th>Genre</th>\n",
              "      <th>NA_Sales</th>\n",
              "      <th>EU_Sales</th>\n",
              "      <th>JP_Sales</th>\n",
              "      <th>Other_Sales</th>\n",
              "      <th>Total_Sales</th>\n",
              "    </tr>\n",
              "  </thead>\n",
              "  <tbody>\n",
              "    <tr>\n",
              "      <th>0</th>\n",
              "      <td>Action</td>\n",
              "      <td>858.75</td>\n",
              "      <td>513.64</td>\n",
              "      <td>156.60</td>\n",
              "      <td>183.99</td>\n",
              "      <td>1712.98</td>\n",
              "    </tr>\n",
              "    <tr>\n",
              "      <th>1</th>\n",
              "      <td>Sports</td>\n",
              "      <td>667.26</td>\n",
              "      <td>370.97</td>\n",
              "      <td>134.76</td>\n",
              "      <td>132.35</td>\n",
              "      <td>1305.34</td>\n",
              "    </tr>\n",
              "    <tr>\n",
              "      <th>2</th>\n",
              "      <td>Shooter</td>\n",
              "      <td>574.48</td>\n",
              "      <td>310.23</td>\n",
              "      <td>38.18</td>\n",
              "      <td>101.86</td>\n",
              "      <td>1024.75</td>\n",
              "    </tr>\n",
              "    <tr>\n",
              "      <th>3</th>\n",
              "      <td>Role-Playing</td>\n",
              "      <td>318.76</td>\n",
              "      <td>183.09</td>\n",
              "      <td>342.93</td>\n",
              "      <td>56.73</td>\n",
              "      <td>901.51</td>\n",
              "    </tr>\n",
              "    <tr>\n",
              "      <th>4</th>\n",
              "      <td>Platform</td>\n",
              "      <td>445.38</td>\n",
              "      <td>200.63</td>\n",
              "      <td>130.53</td>\n",
              "      <td>51.45</td>\n",
              "      <td>827.99</td>\n",
              "    </tr>\n",
              "  </tbody>\n",
              "</table>\n",
              "</div>"
            ],
            "text/plain": [
              "          Genre  NA_Sales  EU_Sales  JP_Sales  Other_Sales  Total_Sales\n",
              "0        Action    858.75    513.64    156.60       183.99      1712.98\n",
              "1        Sports    667.26    370.97    134.76       132.35      1305.34\n",
              "2       Shooter    574.48    310.23     38.18       101.86      1024.75\n",
              "3  Role-Playing    318.76    183.09    342.93        56.73       901.51\n",
              "4      Platform    445.38    200.63    130.53        51.45       827.99"
            ]
          },
          "metadata": {
            "tags": []
          },
          "execution_count": 31
        }
      ]
    },
    {
      "cell_type": "code",
      "metadata": {
        "colab": {
          "base_uri": "https://localhost:8080/"
        },
        "id": "4R-bcn7R7b9A",
        "outputId": "860db439-3c25-421b-b73c-acd5f1e3562c"
      },
      "source": [
        "# 전체 출고량 Top5 Genre 조사 결과 시각화 \n",
        "\n",
        "sns.barplot(x='Total_Sales', y='Genre', data=genre_top5).set_title('Top 5 Genre');"
      ],
      "execution_count": null,
      "outputs": [
        {
          "output_type": "display_data",
          "data": {
            "image/png": "[encoded data removed]",
            "text/plain": [
              "<Figure size 432x288 with 1 Axes>"
            ]
          },
          "metadata": {
            "tags": [],
            "needs_background": "light"
          }
        }
      ]
    },
    {
      "cell_type": "markdown",
      "metadata": {
        "id": "N6sYRLpyR39L"
      },
      "source": [
        "#### 4. 전체 출고량 Top5 Publisher 조사"
      ]
    },
    {
      "cell_type": "code",
      "metadata": {
        "colab": {
          "base_uri": "https://localhost:8080/"
        },
        "id": "SVR5R75QPuJA",
        "outputId": "a83e2161-664a-4ac8-ca89-1a09ba2a4392"
      },
      "source": [
        "# 전체 출고량 top5 Publisher 조사 \n",
        "publisher_top5 = df.groupby('Publisher').sum()\n",
        "publisher_top5 = publisher_top5.sort_values(by=['Total_Sales'], axis=0, ascending=False).head(5)\n",
        "publisher_top5 = publisher_top5.reset_index()\n",
        "\n",
        "publisher_top5"
      ],
      "execution_count": null,
      "outputs": [
        {
          "output_type": "execute_result",
          "data": {
            "text/html": [
              "<div>\n",
              "<style scoped>\n",
              "    .dataframe tbody tr th:only-of-type {\n",
              "        vertical-align: middle;\n",
              "    }\n",
              "\n",
              "    .dataframe tbody tr th {\n",
              "        vertical-align: top;\n",
              "    }\n",
              "\n",
              "    .dataframe thead th {\n",
              "        text-align: right;\n",
              "    }\n",
              "</style>\n",
              "<table border=\"1\" class=\"dataframe\">\n",
              "  <thead>\n",
              "    <tr style=\"text-align: right;\">\n",
              "      <th></th>\n",
              "      <th>Publisher</th>\n",
              "      <th>NA_Sales</th>\n",
              "      <th>EU_Sales</th>\n",
              "      <th>JP_Sales</th>\n",
              "      <th>Other_Sales</th>\n",
              "      <th>Total_Sales</th>\n",
              "    </tr>\n",
              "  </thead>\n",
              "  <tbody>\n",
              "    <tr>\n",
              "      <th>0</th>\n",
              "      <td>Nintendo</td>\n",
              "      <td>808.14</td>\n",
              "      <td>410.34</td>\n",
              "      <td>447.43</td>\n",
              "      <td>93.67</td>\n",
              "      <td>1759.58</td>\n",
              "    </tr>\n",
              "    <tr>\n",
              "      <th>1</th>\n",
              "      <td>Electronic Arts</td>\n",
              "      <td>579.90</td>\n",
              "      <td>366.11</td>\n",
              "      <td>13.98</td>\n",
              "      <td>127.19</td>\n",
              "      <td>1087.18</td>\n",
              "    </tr>\n",
              "    <tr>\n",
              "      <th>2</th>\n",
              "      <td>Activision</td>\n",
              "      <td>425.10</td>\n",
              "      <td>213.17</td>\n",
              "      <td>6.54</td>\n",
              "      <td>74.55</td>\n",
              "      <td>719.36</td>\n",
              "    </tr>\n",
              "    <tr>\n",
              "      <th>3</th>\n",
              "      <td>Sony Computer Entertainment</td>\n",
              "      <td>263.70</td>\n",
              "      <td>186.74</td>\n",
              "      <td>73.72</td>\n",
              "      <td>79.42</td>\n",
              "      <td>603.58</td>\n",
              "    </tr>\n",
              "    <tr>\n",
              "      <th>4</th>\n",
              "      <td>Ubisoft</td>\n",
              "      <td>252.26</td>\n",
              "      <td>162.99</td>\n",
              "      <td>7.33</td>\n",
              "      <td>50.12</td>\n",
              "      <td>472.70</td>\n",
              "    </tr>\n",
              "  </tbody>\n",
              "</table>\n",
              "</div>"
            ],
            "text/plain": [
              "                     Publisher  NA_Sales  ...  Other_Sales  Total_Sales\n",
              "0                     Nintendo    808.14  ...        93.67      1759.58\n",
              "1              Electronic Arts    579.90  ...       127.19      1087.18\n",
              "2                   Activision    425.10  ...        74.55       719.36\n",
              "3  Sony Computer Entertainment    263.70  ...        79.42       603.58\n",
              "4                      Ubisoft    252.26  ...        50.12       472.70\n",
              "\n",
              "[5 rows x 6 columns]"
            ]
          },
          "metadata": {
            "tags": []
          },
          "execution_count": 33
        }
      ]
    },
    {
      "cell_type": "code",
      "metadata": {
        "colab": {
          "base_uri": "https://localhost:8080/"
        },
        "id": "YznLwrzDRl9P",
        "outputId": "1d0c59fe-807d-48b9-8c86-e94a4a0d1a76"
      },
      "source": [
        "# 전체 출고량 top5 Publisher 조사 결과 시각화 \n",
        "\n",
        "sns.barplot(x='Total_Sales', y='Publisher', data=publisher_top5).set_title('Top 5 Publisher');"
      ],
      "execution_count": null,
      "outputs": [
        {
          "output_type": "display_data",
          "data": {
            "image/png": "[encoded data removed]",
            "text/plain": [
              "<Figure size 432x288 with 1 Axes>"
            ]
          },
          "metadata": {
            "tags": [],
            "needs_background": "light"
          }
        }
      ]
    },
    {
      "cell_type": "markdown",
      "metadata": {
        "id": "ISrTLpL-3k5F"
      },
      "source": [
        "### **최근 10년간의 전체 출고량 기준 선호도 조사** "
      ]
    },
    {
      "cell_type": "code",
      "metadata": {
        "colab": {
          "base_uri": "https://localhost:8080/"
        },
        "id": "EZodmygGqW8I",
        "outputId": "16a5e411-9ab9-4993-9faa-f411a05c1999"
      },
      "source": [
        "# 10년간의 데이터 추출 \n",
        "\n",
        "df['Year'] = df['Year'].astype(int)\n",
        "filter = df['Year'] > 2010 #데이터 기준 최근 10년 : 2011~2020년 \n",
        "df['Year'] = df['Year'].astype(str)\n",
        "\n",
        "df10 = df[filter]\n",
        "df10.head()"
      ],
      "execution_count": null,
      "outputs": [
        {
          "output_type": "execute_result",
          "data": {
            "text/html": [
              "<div>\n",
              "<style scoped>\n",
              "    .dataframe tbody tr th:only-of-type {\n",
              "        vertical-align: middle;\n",
              "    }\n",
              "\n",
              "    .dataframe tbody tr th {\n",
              "        vertical-align: top;\n",
              "    }\n",
              "\n",
              "    .dataframe thead th {\n",
              "        text-align: right;\n",
              "    }\n",
              "</style>\n",
              "<table border=\"1\" class=\"dataframe\">\n",
              "  <thead>\n",
              "    <tr style=\"text-align: right;\">\n",
              "      <th></th>\n",
              "      <th>Name</th>\n",
              "      <th>Platform</th>\n",
              "      <th>Year</th>\n",
              "      <th>Genre</th>\n",
              "      <th>Publisher</th>\n",
              "      <th>NA_Sales</th>\n",
              "      <th>EU_Sales</th>\n",
              "      <th>JP_Sales</th>\n",
              "      <th>Other_Sales</th>\n",
              "      <th>Total_Sales</th>\n",
              "    </tr>\n",
              "  </thead>\n",
              "  <tbody>\n",
              "    <tr>\n",
              "      <th>6</th>\n",
              "      <td>JASF: Jane's Advanced Strike Fighters</td>\n",
              "      <td>PC</td>\n",
              "      <td>2011</td>\n",
              "      <td>Simulation</td>\n",
              "      <td>Deep Silver</td>\n",
              "      <td>0.02</td>\n",
              "      <td>0.01</td>\n",
              "      <td>0.00</td>\n",
              "      <td>0.00</td>\n",
              "      <td>0.03</td>\n",
              "    </tr>\n",
              "    <tr>\n",
              "      <th>9</th>\n",
              "      <td>The Penguins of Madagascar: Dr. Blowhole Retur...</td>\n",
              "      <td>PS3</td>\n",
              "      <td>2011</td>\n",
              "      <td>Action</td>\n",
              "      <td>THQ</td>\n",
              "      <td>0.04</td>\n",
              "      <td>0.03</td>\n",
              "      <td>0.00</td>\n",
              "      <td>0.01</td>\n",
              "      <td>0.08</td>\n",
              "    </tr>\n",
              "    <tr>\n",
              "      <th>17</th>\n",
              "      <td>Hajime no Ippo: The Fighting! (2014)</td>\n",
              "      <td>PS3</td>\n",
              "      <td>2014</td>\n",
              "      <td>Sports</td>\n",
              "      <td>Namco Bandai Games</td>\n",
              "      <td>0.00</td>\n",
              "      <td>0.00</td>\n",
              "      <td>0.03</td>\n",
              "      <td>0.00</td>\n",
              "      <td>0.03</td>\n",
              "    </tr>\n",
              "    <tr>\n",
              "      <th>18</th>\n",
              "      <td>Grand Kingdom</td>\n",
              "      <td>PS4</td>\n",
              "      <td>2015</td>\n",
              "      <td>Role-Playing</td>\n",
              "      <td>Nippon Ichi Software</td>\n",
              "      <td>0.02</td>\n",
              "      <td>0.00</td>\n",
              "      <td>0.03</td>\n",
              "      <td>0.00</td>\n",
              "      <td>0.05</td>\n",
              "    </tr>\n",
              "    <tr>\n",
              "      <th>23</th>\n",
              "      <td>Don Bradman Cricket 14</td>\n",
              "      <td>X360</td>\n",
              "      <td>2014</td>\n",
              "      <td>Sports</td>\n",
              "      <td>Tru Blu Entertainment</td>\n",
              "      <td>0.00</td>\n",
              "      <td>0.01</td>\n",
              "      <td>0.00</td>\n",
              "      <td>0.00</td>\n",
              "      <td>0.01</td>\n",
              "    </tr>\n",
              "  </tbody>\n",
              "</table>\n",
              "</div>"
            ],
            "text/plain": [
              "                                                 Name  ... Total_Sales\n",
              "6               JASF: Jane's Advanced Strike Fighters  ...        0.03\n",
              "9   The Penguins of Madagascar: Dr. Blowhole Retur...  ...        0.08\n",
              "17               Hajime no Ippo: The Fighting! (2014)  ...        0.03\n",
              "18                                      Grand Kingdom  ...        0.05\n",
              "23                             Don Bradman Cricket 14  ...        0.01\n",
              "\n",
              "[5 rows x 10 columns]"
            ]
          },
          "metadata": {
            "tags": []
          },
          "execution_count": 35
        }
      ]
    },
    {
      "cell_type": "markdown",
      "metadata": {
        "id": "SybOHcM0e-2E"
      },
      "source": [
        "#### 1. 최근 10년간 출시된 게임 중 출고량 top50 조사 "
      ]
    },
    {
      "cell_type": "code",
      "metadata": {
        "id": "UYXEuz1meac8"
      },
      "source": [
        "# 최근 10년간 출시된 게임 중 출고량 top 50 조사 \n",
        "game10_top = df10.sort_values(by=['Total_Sales'], axis=0, ascending=False).head(50)\n",
        "game10_top = game10_top[['Name', 'Platform', 'Year', 'Genre', 'Publisher', 'Total_Sales']]"
      ],
      "execution_count": null,
      "outputs": []
    },
    {
      "cell_type": "markdown",
      "metadata": {
        "id": "FHHh169CfJlB"
      },
      "source": [
        "##### 1-1. 최근 10년간 출시된 게임 중 출고량 top 50개의 Publisher 조사"
      ]
    },
    {
      "cell_type": "code",
      "metadata": {
        "colab": {
          "base_uri": "https://localhost:8080/"
        },
        "id": "dpK67sc_empH",
        "outputId": "7e5b5a61-4d51-4a1e-e7b0-1da08bec856a"
      },
      "source": [
        "#최근 10년간 출시된 게임 중 출고량 top 50개의 Publisher 조사\n",
        "\n",
        "t_publisher10 = game10_top.value_counts(['Publisher'])\n",
        "t_pb_df10 = pd.DataFrame(t_publisher10, columns = ['Counts'])\n",
        "t_pb_df10 = t_pb_df10.reset_index()\n",
        "t_pb_df10"
      ],
      "execution_count": null,
      "outputs": [
        {
          "output_type": "execute_result",
          "data": {
            "text/html": [
              "<div>\n",
              "<style scoped>\n",
              "    .dataframe tbody tr th:only-of-type {\n",
              "        vertical-align: middle;\n",
              "    }\n",
              "\n",
              "    .dataframe tbody tr th {\n",
              "        vertical-align: top;\n",
              "    }\n",
              "\n",
              "    .dataframe thead th {\n",
              "        text-align: right;\n",
              "    }\n",
              "</style>\n",
              "<table border=\"1\" class=\"dataframe\">\n",
              "  <thead>\n",
              "    <tr style=\"text-align: right;\">\n",
              "      <th></th>\n",
              "      <th>Publisher</th>\n",
              "      <th>Counts</th>\n",
              "    </tr>\n",
              "  </thead>\n",
              "  <tbody>\n",
              "    <tr>\n",
              "      <th>0</th>\n",
              "      <td>Activision</td>\n",
              "      <td>12</td>\n",
              "    </tr>\n",
              "    <tr>\n",
              "      <th>1</th>\n",
              "      <td>Nintendo</td>\n",
              "      <td>11</td>\n",
              "    </tr>\n",
              "    <tr>\n",
              "      <th>2</th>\n",
              "      <td>Electronic Arts</td>\n",
              "      <td>9</td>\n",
              "    </tr>\n",
              "    <tr>\n",
              "      <th>3</th>\n",
              "      <td>Ubisoft</td>\n",
              "      <td>4</td>\n",
              "    </tr>\n",
              "    <tr>\n",
              "      <th>4</th>\n",
              "      <td>Take-Two Interactive</td>\n",
              "      <td>4</td>\n",
              "    </tr>\n",
              "    <tr>\n",
              "      <th>5</th>\n",
              "      <td>Microsoft Game Studios</td>\n",
              "      <td>3</td>\n",
              "    </tr>\n",
              "    <tr>\n",
              "      <th>6</th>\n",
              "      <td>Bethesda Softworks</td>\n",
              "      <td>3</td>\n",
              "    </tr>\n",
              "    <tr>\n",
              "      <th>7</th>\n",
              "      <td>Sony Computer Entertainment</td>\n",
              "      <td>2</td>\n",
              "    </tr>\n",
              "    <tr>\n",
              "      <th>8</th>\n",
              "      <td>Warner Bros. Interactive Entertainment</td>\n",
              "      <td>1</td>\n",
              "    </tr>\n",
              "    <tr>\n",
              "      <th>9</th>\n",
              "      <td>Sony Computer Entertainment Europe</td>\n",
              "      <td>1</td>\n",
              "    </tr>\n",
              "  </tbody>\n",
              "</table>\n",
              "</div>"
            ],
            "text/plain": [
              "                                Publisher  Counts\n",
              "0                              Activision      12\n",
              "1                                Nintendo      11\n",
              "2                         Electronic Arts       9\n",
              "3                                 Ubisoft       4\n",
              "4                    Take-Two Interactive       4\n",
              "5                  Microsoft Game Studios       3\n",
              "6                      Bethesda Softworks       3\n",
              "7             Sony Computer Entertainment       2\n",
              "8  Warner Bros. Interactive Entertainment       1\n",
              "9      Sony Computer Entertainment Europe       1"
            ]
          },
          "metadata": {
            "tags": []
          },
          "execution_count": 37
        }
      ]
    },
    {
      "cell_type": "code",
      "metadata": {
        "colab": {
          "base_uri": "https://localhost:8080/"
        },
        "id": "pwGiKC9Ze0F6",
        "outputId": "969acbd4-3a64-42e9-844e-a553c84fe314"
      },
      "source": [
        "sns.barplot(x='Counts', y='Publisher', data=t_pb_df10);"
      ],
      "execution_count": null,
      "outputs": [
        {
          "output_type": "display_data",
          "data": {
            "image/png": "[encoded data removed]",
            "text/plain": [
              "<Figure size 432x288 with 1 Axes>"
            ]
          },
          "metadata": {
            "tags": [],
            "needs_background": "light"
          }
        }
      ]
    },
    {
      "cell_type": "markdown",
      "metadata": {
        "id": "wxFbMfQifXcM"
      },
      "source": [
        "##### 1-2. 최근 10년간 출시된 게임 중 출고량 top 50개의 Platform 조사"
      ]
    },
    {
      "cell_type": "code",
      "metadata": {
        "colab": {
          "base_uri": "https://localhost:8080/"
        },
        "id": "SdJ5odWXflYs",
        "outputId": "eab8d0ef-feea-4713-eb04-6060d1126eaf"
      },
      "source": [
        "#최근 10년간 출시된 게임 중 출고량 top 50개의 Platform 조사\n",
        "\n",
        "t_platform10 = game10_top.value_counts(['Platform'])\n",
        "t_p_df10 = pd.DataFrame(t_platform10, columns = ['Counts'])\n",
        "t_p_df10 = t_p_df10.reset_index()\n",
        "t_p_df10"
      ],
      "execution_count": null,
      "outputs": [
        {
          "output_type": "execute_result",
          "data": {
            "text/html": [
              "<div>\n",
              "<style scoped>\n",
              "    .dataframe tbody tr th:only-of-type {\n",
              "        vertical-align: middle;\n",
              "    }\n",
              "\n",
              "    .dataframe tbody tr th {\n",
              "        vertical-align: top;\n",
              "    }\n",
              "\n",
              "    .dataframe thead th {\n",
              "        text-align: right;\n",
              "    }\n",
              "</style>\n",
              "<table border=\"1\" class=\"dataframe\">\n",
              "  <thead>\n",
              "    <tr style=\"text-align: right;\">\n",
              "      <th></th>\n",
              "      <th>Platform</th>\n",
              "      <th>Counts</th>\n",
              "    </tr>\n",
              "  </thead>\n",
              "  <tbody>\n",
              "    <tr>\n",
              "      <th>0</th>\n",
              "      <td>PS3</td>\n",
              "      <td>14</td>\n",
              "    </tr>\n",
              "    <tr>\n",
              "      <th>1</th>\n",
              "      <td>X360</td>\n",
              "      <td>11</td>\n",
              "    </tr>\n",
              "    <tr>\n",
              "      <th>2</th>\n",
              "      <td>PS4</td>\n",
              "      <td>8</td>\n",
              "    </tr>\n",
              "    <tr>\n",
              "      <th>3</th>\n",
              "      <td>3DS</td>\n",
              "      <td>7</td>\n",
              "    </tr>\n",
              "    <tr>\n",
              "      <th>4</th>\n",
              "      <td>XOne</td>\n",
              "      <td>3</td>\n",
              "    </tr>\n",
              "    <tr>\n",
              "      <th>5</th>\n",
              "      <td>WiiU</td>\n",
              "      <td>3</td>\n",
              "    </tr>\n",
              "    <tr>\n",
              "      <th>6</th>\n",
              "      <td>Wii</td>\n",
              "      <td>2</td>\n",
              "    </tr>\n",
              "    <tr>\n",
              "      <th>7</th>\n",
              "      <td>PC</td>\n",
              "      <td>1</td>\n",
              "    </tr>\n",
              "    <tr>\n",
              "      <th>8</th>\n",
              "      <td>DS</td>\n",
              "      <td>1</td>\n",
              "    </tr>\n",
              "  </tbody>\n",
              "</table>\n",
              "</div>"
            ],
            "text/plain": [
              "  Platform  Counts\n",
              "0      PS3      14\n",
              "1     X360      11\n",
              "2      PS4       8\n",
              "3      3DS       7\n",
              "4     XOne       3\n",
              "5     WiiU       3\n",
              "6      Wii       2\n",
              "7       PC       1\n",
              "8       DS       1"
            ]
          },
          "metadata": {
            "tags": []
          },
          "execution_count": 39
        }
      ]
    },
    {
      "cell_type": "code",
      "metadata": {
        "colab": {
          "base_uri": "https://localhost:8080/"
        },
        "id": "_sNwqH4JfzVC",
        "outputId": "686f3e3c-9d4f-44b1-bdf2-5a822e1cfecd"
      },
      "source": [
        "sns.barplot(x='Counts', y='Platform', data=t_p_df10);"
      ],
      "execution_count": null,
      "outputs": [
        {
          "output_type": "display_data",
          "data": {
            "image/png": "[encoded data removed]",
            "text/plain": [
              "<Figure size 432x288 with 1 Axes>"
            ]
          },
          "metadata": {
            "tags": [],
            "needs_background": "light"
          }
        }
      ]
    },
    {
      "cell_type": "markdown",
      "metadata": {
        "id": "Eb6DzQJDgFAG"
      },
      "source": [
        "##### 1-3. 최근 10년간 출시된 게임 중 출고량 top 50개의 Genre 조사"
      ]
    },
    {
      "cell_type": "code",
      "metadata": {
        "colab": {
          "base_uri": "https://localhost:8080/"
        },
        "id": "4Wwf_TNPgFAG",
        "outputId": "f1d52b6c-a7fb-43eb-bbbc-8c173f8d5d98"
      },
      "source": [
        "#최근 10년간 출시된 게임 중 출고량 top 50개의 Genre 조사\n",
        "\n",
        "t_genre10 = game10_top.value_counts(['Genre'])\n",
        "t_g_df10 = pd.DataFrame(t_genre10, columns = ['Counts'])\n",
        "t_g_df10 = t_g_df10.reset_index()\n",
        "t_g_df10"
      ],
      "execution_count": null,
      "outputs": [
        {
          "output_type": "execute_result",
          "data": {
            "text/html": [
              "<div>\n",
              "<style scoped>\n",
              "    .dataframe tbody tr th:only-of-type {\n",
              "        vertical-align: middle;\n",
              "    }\n",
              "\n",
              "    .dataframe tbody tr th {\n",
              "        vertical-align: top;\n",
              "    }\n",
              "\n",
              "    .dataframe thead th {\n",
              "        text-align: right;\n",
              "    }\n",
              "</style>\n",
              "<table border=\"1\" class=\"dataframe\">\n",
              "  <thead>\n",
              "    <tr style=\"text-align: right;\">\n",
              "      <th></th>\n",
              "      <th>Genre</th>\n",
              "      <th>Counts</th>\n",
              "    </tr>\n",
              "  </thead>\n",
              "  <tbody>\n",
              "    <tr>\n",
              "      <th>0</th>\n",
              "      <td>Shooter</td>\n",
              "      <td>16</td>\n",
              "    </tr>\n",
              "    <tr>\n",
              "      <th>1</th>\n",
              "      <td>Action</td>\n",
              "      <td>11</td>\n",
              "    </tr>\n",
              "    <tr>\n",
              "      <th>2</th>\n",
              "      <td>Role-Playing</td>\n",
              "      <td>6</td>\n",
              "    </tr>\n",
              "    <tr>\n",
              "      <th>3</th>\n",
              "      <td>Sports</td>\n",
              "      <td>4</td>\n",
              "    </tr>\n",
              "    <tr>\n",
              "      <th>4</th>\n",
              "      <td>Misc</td>\n",
              "      <td>4</td>\n",
              "    </tr>\n",
              "    <tr>\n",
              "      <th>5</th>\n",
              "      <td>Platform</td>\n",
              "      <td>3</td>\n",
              "    </tr>\n",
              "    <tr>\n",
              "      <th>6</th>\n",
              "      <td>Simulation</td>\n",
              "      <td>2</td>\n",
              "    </tr>\n",
              "    <tr>\n",
              "      <th>7</th>\n",
              "      <td>Racing</td>\n",
              "      <td>2</td>\n",
              "    </tr>\n",
              "    <tr>\n",
              "      <th>8</th>\n",
              "      <td>Fighting</td>\n",
              "      <td>2</td>\n",
              "    </tr>\n",
              "  </tbody>\n",
              "</table>\n",
              "</div>"
            ],
            "text/plain": [
              "          Genre  Counts\n",
              "0       Shooter      16\n",
              "1        Action      11\n",
              "2  Role-Playing       6\n",
              "3        Sports       4\n",
              "4          Misc       4\n",
              "5      Platform       3\n",
              "6    Simulation       2\n",
              "7        Racing       2\n",
              "8      Fighting       2"
            ]
          },
          "metadata": {
            "tags": []
          },
          "execution_count": 41
        }
      ]
    },
    {
      "cell_type": "code",
      "metadata": {
        "colab": {
          "base_uri": "https://localhost:8080/"
        },
        "id": "Is-RXu9xgFAH",
        "outputId": "652568f1-7b74-458d-ac44-80111584351a"
      },
      "source": [
        "sns.barplot(x='Counts', y='Genre', data=t_g_df10);"
      ],
      "execution_count": null,
      "outputs": [
        {
          "output_type": "display_data",
          "data": {
            "image/png": "[encoded data removed]",
            "text/plain": [
              "<Figure size 432x288 with 1 Axes>"
            ]
          },
          "metadata": {
            "tags": [],
            "needs_background": "light"
          }
        }
      ]
    },
    {
      "cell_type": "markdown",
      "metadata": {
        "id": "QsJY7qFEgFAH"
      },
      "source": [
        ""
      ]
    },
    {
      "cell_type": "markdown",
      "metadata": {
        "id": "onGDrNlp8Izt"
      },
      "source": [
        "#### 2. 최근 10년간 전체 출고량 Top 5 Platform"
      ]
    },
    {
      "cell_type": "code",
      "metadata": {
        "colab": {
          "base_uri": "https://localhost:8080/"
        },
        "id": "zUNFoMEu5mG9",
        "outputId": "4c85bea6-ec8d-4bbd-b49f-4d7dc546fabd"
      },
      "source": [
        "# 최근 10년간 전체 출고량 Top5 Platform 조사 \n",
        "\n",
        "platform10_top5 = df10.groupby('Platform').sum()\n",
        "platform10_top5 = platform10_top5.sort_values(by=['Total_Sales'], axis=0, ascending=False).head(5)\n",
        "platform10_top5 = platform10_top5.reset_index()\n",
        "\n",
        "platform10_top5"
      ],
      "execution_count": null,
      "outputs": [
        {
          "output_type": "execute_result",
          "data": {
            "text/html": [
              "<div>\n",
              "<style scoped>\n",
              "    .dataframe tbody tr th:only-of-type {\n",
              "        vertical-align: middle;\n",
              "    }\n",
              "\n",
              "    .dataframe tbody tr th {\n",
              "        vertical-align: top;\n",
              "    }\n",
              "\n",
              "    .dataframe thead th {\n",
              "        text-align: right;\n",
              "    }\n",
              "</style>\n",
              "<table border=\"1\" class=\"dataframe\">\n",
              "  <thead>\n",
              "    <tr style=\"text-align: right;\">\n",
              "      <th></th>\n",
              "      <th>Platform</th>\n",
              "      <th>NA_Sales</th>\n",
              "      <th>EU_Sales</th>\n",
              "      <th>JP_Sales</th>\n",
              "      <th>Other_Sales</th>\n",
              "      <th>Total_Sales</th>\n",
              "    </tr>\n",
              "  </thead>\n",
              "  <tbody>\n",
              "    <tr>\n",
              "      <th>0</th>\n",
              "      <td>PS3</td>\n",
              "      <td>166.84</td>\n",
              "      <td>171.60</td>\n",
              "      <td>49.16</td>\n",
              "      <td>69.21</td>\n",
              "      <td>456.81</td>\n",
              "    </tr>\n",
              "    <tr>\n",
              "      <th>1</th>\n",
              "      <td>X360</td>\n",
              "      <td>225.32</td>\n",
              "      <td>123.72</td>\n",
              "      <td>3.34</td>\n",
              "      <td>32.81</td>\n",
              "      <td>385.19</td>\n",
              "    </tr>\n",
              "    <tr>\n",
              "      <th>2</th>\n",
              "      <td>PS4</td>\n",
              "      <td>95.80</td>\n",
              "      <td>122.94</td>\n",
              "      <td>14.04</td>\n",
              "      <td>43.00</td>\n",
              "      <td>275.78</td>\n",
              "    </tr>\n",
              "    <tr>\n",
              "      <th>3</th>\n",
              "      <td>3DS</td>\n",
              "      <td>72.86</td>\n",
              "      <td>54.24</td>\n",
              "      <td>92.96</td>\n",
              "      <td>11.76</td>\n",
              "      <td>231.82</td>\n",
              "    </tr>\n",
              "    <tr>\n",
              "      <th>4</th>\n",
              "      <td>XOne</td>\n",
              "      <td>83.19</td>\n",
              "      <td>45.63</td>\n",
              "      <td>0.34</td>\n",
              "      <td>11.92</td>\n",
              "      <td>141.08</td>\n",
              "    </tr>\n",
              "  </tbody>\n",
              "</table>\n",
              "</div>"
            ],
            "text/plain": [
              "  Platform  NA_Sales  EU_Sales  JP_Sales  Other_Sales  Total_Sales\n",
              "0      PS3    166.84    171.60     49.16        69.21       456.81\n",
              "1     X360    225.32    123.72      3.34        32.81       385.19\n",
              "2      PS4     95.80    122.94     14.04        43.00       275.78\n",
              "3      3DS     72.86     54.24     92.96        11.76       231.82\n",
              "4     XOne     83.19     45.63      0.34        11.92       141.08"
            ]
          },
          "metadata": {
            "tags": []
          },
          "execution_count": 43
        }
      ]
    },
    {
      "cell_type": "code",
      "metadata": {
        "colab": {
          "base_uri": "https://localhost:8080/"
        },
        "id": "kOS6znkTm4by",
        "outputId": "9a221b66-ccc8-4899-eaff-a16852023f57"
      },
      "source": [
        "# 최근 10년간 전체 출고량 Top5 Platform 조사 결과 시각화 \n",
        "\n",
        "sns.barplot(x='Total_Sales', y='Platform', data=platform10_top5).set_title('Top 5 Platform in 10 Years');"
      ],
      "execution_count": null,
      "outputs": [
        {
          "output_type": "display_data",
          "data": {
            "image/png": "[encoded data removed]",
            "text/plain": [
              "<Figure size 432x288 with 1 Axes>"
            ]
          },
          "metadata": {
            "tags": [],
            "needs_background": "light"
          }
        }
      ]
    },
    {
      "cell_type": "markdown",
      "metadata": {
        "id": "elKDe556-gKO"
      },
      "source": [
        "#### 3. 최근 10년간 전체 출고량 top 5 Genre"
      ]
    },
    {
      "cell_type": "code",
      "metadata": {
        "colab": {
          "base_uri": "https://localhost:8080/"
        },
        "id": "f4-Ay2hT9NKy",
        "outputId": "10f15293-9404-473a-fdfd-d2662df7d176"
      },
      "source": [
        "# 최근 10년간 전체 출고량 Top5 Genre 조사\n",
        "\n",
        "genre10_top5 = df10.groupby('Genre').sum()\n",
        "genre10_top5 = genre10_top5.sort_values(by=['Total_Sales'], axis=0, ascending=False).head(5)\n",
        "genre10_top5 = genre10_top5.reset_index()\n",
        "\n",
        "genre10_top5"
      ],
      "execution_count": null,
      "outputs": [
        {
          "output_type": "execute_result",
          "data": {
            "text/html": [
              "<div>\n",
              "<style scoped>\n",
              "    .dataframe tbody tr th:only-of-type {\n",
              "        vertical-align: middle;\n",
              "    }\n",
              "\n",
              "    .dataframe tbody tr th {\n",
              "        vertical-align: top;\n",
              "    }\n",
              "\n",
              "    .dataframe thead th {\n",
              "        text-align: right;\n",
              "    }\n",
              "</style>\n",
              "<table border=\"1\" class=\"dataframe\">\n",
              "  <thead>\n",
              "    <tr style=\"text-align: right;\">\n",
              "      <th></th>\n",
              "      <th>Genre</th>\n",
              "      <th>NA_Sales</th>\n",
              "      <th>EU_Sales</th>\n",
              "      <th>JP_Sales</th>\n",
              "      <th>Other_Sales</th>\n",
              "      <th>Total_Sales</th>\n",
              "    </tr>\n",
              "  </thead>\n",
              "  <tbody>\n",
              "    <tr>\n",
              "      <th>0</th>\n",
              "      <td>Action</td>\n",
              "      <td>226.08</td>\n",
              "      <td>199.24</td>\n",
              "      <td>61.80</td>\n",
              "      <td>64.98</td>\n",
              "      <td>552.10</td>\n",
              "    </tr>\n",
              "    <tr>\n",
              "      <th>1</th>\n",
              "      <td>Shooter</td>\n",
              "      <td>184.53</td>\n",
              "      <td>142.54</td>\n",
              "      <td>11.42</td>\n",
              "      <td>46.71</td>\n",
              "      <td>385.20</td>\n",
              "    </tr>\n",
              "    <tr>\n",
              "      <th>2</th>\n",
              "      <td>Sports</td>\n",
              "      <td>105.88</td>\n",
              "      <td>86.60</td>\n",
              "      <td>10.92</td>\n",
              "      <td>28.86</td>\n",
              "      <td>232.26</td>\n",
              "    </tr>\n",
              "    <tr>\n",
              "      <th>3</th>\n",
              "      <td>Role-Playing</td>\n",
              "      <td>73.85</td>\n",
              "      <td>56.00</td>\n",
              "      <td>72.43</td>\n",
              "      <td>18.45</td>\n",
              "      <td>220.73</td>\n",
              "    </tr>\n",
              "    <tr>\n",
              "      <th>4</th>\n",
              "      <td>Misc</td>\n",
              "      <td>70.05</td>\n",
              "      <td>40.84</td>\n",
              "      <td>17.25</td>\n",
              "      <td>12.76</td>\n",
              "      <td>140.90</td>\n",
              "    </tr>\n",
              "  </tbody>\n",
              "</table>\n",
              "</div>"
            ],
            "text/plain": [
              "          Genre  NA_Sales  EU_Sales  JP_Sales  Other_Sales  Total_Sales\n",
              "0        Action    226.08    199.24     61.80        64.98       552.10\n",
              "1       Shooter    184.53    142.54     11.42        46.71       385.20\n",
              "2        Sports    105.88     86.60     10.92        28.86       232.26\n",
              "3  Role-Playing     73.85     56.00     72.43        18.45       220.73\n",
              "4          Misc     70.05     40.84     17.25        12.76       140.90"
            ]
          },
          "metadata": {
            "tags": []
          },
          "execution_count": 45
        }
      ]
    },
    {
      "cell_type": "code",
      "metadata": {
        "colab": {
          "base_uri": "https://localhost:8080/"
        },
        "id": "mRXcPJ8am-g2",
        "outputId": "281bc063-7a69-4f4b-f405-986151065cd5"
      },
      "source": [
        "# 최근 10년간 전체 출고량 Top5 Genre 조사 결과 시각화 \n",
        "\n",
        "sns.barplot(x='Total_Sales', y='Genre', data=genre10_top5).set_title('Top 5 Genre in 10 Years');"
      ],
      "execution_count": null,
      "outputs": [
        {
          "output_type": "display_data",
          "data": {
            "image/png": "[encoded data removed]",
            "text/plain": [
              "<Figure size 432x288 with 1 Axes>"
            ]
          },
          "metadata": {
            "tags": [],
            "needs_background": "light"
          }
        }
      ]
    },
    {
      "cell_type": "markdown",
      "metadata": {
        "id": "b7iKZYqX-bWn"
      },
      "source": [
        "### **최근 10년간의 지역별 출고량 기준 선호도 조사**  "
      ]
    },
    {
      "cell_type": "markdown",
      "metadata": {
        "id": "BZY_LxD3-3hd"
      },
      "source": [
        "#### 1. 최근 10년간 지역별 Platform 출고량"
      ]
    },
    {
      "cell_type": "code",
      "metadata": {
        "colab": {
          "base_uri": "https://localhost:8080/"
        },
        "id": "GvQ5wvn---wG",
        "outputId": "26a89516-d253-48e7-b5cd-ce6593074184"
      },
      "source": [
        "# 최근 10년간 지역별 Platform 출고량 조사 \n",
        "\n",
        "platform10_local = df10.groupby('Platform').sum()\n",
        "platform10_local = platform10_local.iloc[:, 0:4]\n",
        "platform10_local"
      ],
      "execution_count": null,
      "outputs": [
        {
          "output_type": "execute_result",
          "data": {
            "text/html": [
              "<div>\n",
              "<style scoped>\n",
              "    .dataframe tbody tr th:only-of-type {\n",
              "        vertical-align: middle;\n",
              "    }\n",
              "\n",
              "    .dataframe tbody tr th {\n",
              "        vertical-align: top;\n",
              "    }\n",
              "\n",
              "    .dataframe thead th {\n",
              "        text-align: right;\n",
              "    }\n",
              "</style>\n",
              "<table border=\"1\" class=\"dataframe\">\n",
              "  <thead>\n",
              "    <tr style=\"text-align: right;\">\n",
              "      <th></th>\n",
              "      <th>NA_Sales</th>\n",
              "      <th>EU_Sales</th>\n",
              "      <th>JP_Sales</th>\n",
              "      <th>Other_Sales</th>\n",
              "    </tr>\n",
              "    <tr>\n",
              "      <th>Platform</th>\n",
              "      <th></th>\n",
              "      <th></th>\n",
              "      <th></th>\n",
              "      <th></th>\n",
              "    </tr>\n",
              "  </thead>\n",
              "  <tbody>\n",
              "    <tr>\n",
              "      <th>3DS</th>\n",
              "      <td>72.86</td>\n",
              "      <td>54.24</td>\n",
              "      <td>92.96</td>\n",
              "      <td>11.76</td>\n",
              "    </tr>\n",
              "    <tr>\n",
              "      <th>DS</th>\n",
              "      <td>20.48</td>\n",
              "      <td>10.27</td>\n",
              "      <td>7.99</td>\n",
              "      <td>2.84</td>\n",
              "    </tr>\n",
              "    <tr>\n",
              "      <th>PC</th>\n",
              "      <td>28.84</td>\n",
              "      <td>53.95</td>\n",
              "      <td>0.00</td>\n",
              "      <td>12.47</td>\n",
              "    </tr>\n",
              "    <tr>\n",
              "      <th>PS2</th>\n",
              "      <td>0.13</td>\n",
              "      <td>0.13</td>\n",
              "      <td>0.09</td>\n",
              "      <td>0.10</td>\n",
              "    </tr>\n",
              "    <tr>\n",
              "      <th>PS3</th>\n",
              "      <td>166.84</td>\n",
              "      <td>171.60</td>\n",
              "      <td>49.16</td>\n",
              "      <td>69.21</td>\n",
              "    </tr>\n",
              "    <tr>\n",
              "      <th>PS4</th>\n",
              "      <td>95.80</td>\n",
              "      <td>122.94</td>\n",
              "      <td>14.04</td>\n",
              "      <td>43.00</td>\n",
              "    </tr>\n",
              "    <tr>\n",
              "      <th>PSP</th>\n",
              "      <td>2.18</td>\n",
              "      <td>1.90</td>\n",
              "      <td>23.99</td>\n",
              "      <td>1.07</td>\n",
              "    </tr>\n",
              "    <tr>\n",
              "      <th>PSV</th>\n",
              "      <td>16.07</td>\n",
              "      <td>16.27</td>\n",
              "      <td>20.81</td>\n",
              "      <td>8.41</td>\n",
              "    </tr>\n",
              "    <tr>\n",
              "      <th>Wii</th>\n",
              "      <td>51.24</td>\n",
              "      <td>31.60</td>\n",
              "      <td>8.97</td>\n",
              "      <td>8.36</td>\n",
              "    </tr>\n",
              "    <tr>\n",
              "      <th>WiiU</th>\n",
              "      <td>38.32</td>\n",
              "      <td>24.23</td>\n",
              "      <td>12.79</td>\n",
              "      <td>6.45</td>\n",
              "    </tr>\n",
              "    <tr>\n",
              "      <th>X360</th>\n",
              "      <td>225.32</td>\n",
              "      <td>123.72</td>\n",
              "      <td>3.34</td>\n",
              "      <td>32.81</td>\n",
              "    </tr>\n",
              "    <tr>\n",
              "      <th>XOne</th>\n",
              "      <td>83.19</td>\n",
              "      <td>45.63</td>\n",
              "      <td>0.34</td>\n",
              "      <td>11.92</td>\n",
              "    </tr>\n",
              "  </tbody>\n",
              "</table>\n",
              "</div>"
            ],
            "text/plain": [
              "          NA_Sales  EU_Sales  JP_Sales  Other_Sales\n",
              "Platform                                           \n",
              "3DS          72.86     54.24     92.96        11.76\n",
              "DS           20.48     10.27      7.99         2.84\n",
              "PC           28.84     53.95      0.00        12.47\n",
              "PS2           0.13      0.13      0.09         0.10\n",
              "PS3         166.84    171.60     49.16        69.21\n",
              "PS4          95.80    122.94     14.04        43.00\n",
              "PSP           2.18      1.90     23.99         1.07\n",
              "PSV          16.07     16.27     20.81         8.41\n",
              "Wii          51.24     31.60      8.97         8.36\n",
              "WiiU         38.32     24.23     12.79         6.45\n",
              "X360        225.32    123.72      3.34        32.81\n",
              "XOne         83.19     45.63      0.34        11.92"
            ]
          },
          "metadata": {
            "tags": []
          },
          "execution_count": 47
        }
      ]
    },
    {
      "cell_type": "code",
      "metadata": {
        "colab": {
          "base_uri": "https://localhost:8080/"
        },
        "id": "Pu0gwzBB_-lF",
        "outputId": "615cb35a-e75f-439b-eccd-f3a652822450"
      },
      "source": [
        "# 최근 10년간 지역별 Platform 출고량 조사 결과 시각화\n",
        "\n",
        "platform10_local = platform10_local.T\n",
        "platform10_local.plot(kind='bar',figsize=(15,6));\n",
        "plt.legend(loc='center left', bbox_to_anchor=(1, 0.5));"
      ],
      "execution_count": null,
      "outputs": [
        {
          "output_type": "display_data",
          "data": {
            "image/png": "[encoded data removed]",
            "text/plain": [
              "<Figure size 1080x432 with 1 Axes>"
            ]
          },
          "metadata": {
            "tags": [],
            "needs_background": "light"
          }
        }
      ]
    },
    {
      "cell_type": "markdown",
      "metadata": {
        "id": "kehbcGviAfOj"
      },
      "source": [
        "- 북미 지역 : **X360 > PS3 > PS4** > XOne > 3DS\n",
        "- 유럽 지역 : **PS3 > X360 > PS4** > 3DS > PC \n",
        "- 일본 지역 : 3DS > **PS3** > PSP > PSV > WiiU\n",
        "- 기타 지역 : **PS3 > PS4 > X360** > XOne > PC\n",
        "\n",
        "***결론 : 일본 지역 제외 북미, 유럽, 기타 지역에서 최근 10년간 선호하는 Platform 1~3순위에 포함된 Platform 동일***"
      ]
    },
    {
      "cell_type": "markdown",
      "metadata": {
        "id": "Vl3YJHziBran"
      },
      "source": [
        "#### 2. 최근 10년간 지역별 Genre 출고량"
      ]
    },
    {
      "cell_type": "code",
      "metadata": {
        "colab": {
          "base_uri": "https://localhost:8080/"
        },
        "id": "MFnVRKhaBzI1",
        "outputId": "a553f76d-b02f-4a25-a6d7-9b3673505339"
      },
      "source": [
        "# 최근 10년간 지역별 Genre 출고량 조사 \n",
        "\n",
        "genre10_local = df10.groupby('Genre').sum()\n",
        "genre10_local = genre10_local.iloc[:, 0:4]\n",
        "genre10_local"
      ],
      "execution_count": null,
      "outputs": [
        {
          "output_type": "execute_result",
          "data": {
            "text/html": [
              "<div>\n",
              "<style scoped>\n",
              "    .dataframe tbody tr th:only-of-type {\n",
              "        vertical-align: middle;\n",
              "    }\n",
              "\n",
              "    .dataframe tbody tr th {\n",
              "        vertical-align: top;\n",
              "    }\n",
              "\n",
              "    .dataframe thead th {\n",
              "        text-align: right;\n",
              "    }\n",
              "</style>\n",
              "<table border=\"1\" class=\"dataframe\">\n",
              "  <thead>\n",
              "    <tr style=\"text-align: right;\">\n",
              "      <th></th>\n",
              "      <th>NA_Sales</th>\n",
              "      <th>EU_Sales</th>\n",
              "      <th>JP_Sales</th>\n",
              "      <th>Other_Sales</th>\n",
              "    </tr>\n",
              "    <tr>\n",
              "      <th>Genre</th>\n",
              "      <th></th>\n",
              "      <th></th>\n",
              "      <th></th>\n",
              "      <th></th>\n",
              "    </tr>\n",
              "  </thead>\n",
              "  <tbody>\n",
              "    <tr>\n",
              "      <th>Action</th>\n",
              "      <td>226.08</td>\n",
              "      <td>199.24</td>\n",
              "      <td>61.80</td>\n",
              "      <td>64.98</td>\n",
              "    </tr>\n",
              "    <tr>\n",
              "      <th>Adventure</th>\n",
              "      <td>14.34</td>\n",
              "      <td>13.83</td>\n",
              "      <td>11.72</td>\n",
              "      <td>4.39</td>\n",
              "    </tr>\n",
              "    <tr>\n",
              "      <th>Fighting</th>\n",
              "      <td>31.10</td>\n",
              "      <td>16.55</td>\n",
              "      <td>12.23</td>\n",
              "      <td>6.77</td>\n",
              "    </tr>\n",
              "    <tr>\n",
              "      <th>Misc</th>\n",
              "      <td>70.05</td>\n",
              "      <td>40.84</td>\n",
              "      <td>17.25</td>\n",
              "      <td>12.76</td>\n",
              "    </tr>\n",
              "    <tr>\n",
              "      <th>Platform</th>\n",
              "      <td>38.31</td>\n",
              "      <td>30.12</td>\n",
              "      <td>12.07</td>\n",
              "      <td>8.25</td>\n",
              "    </tr>\n",
              "    <tr>\n",
              "      <th>Puzzle</th>\n",
              "      <td>2.84</td>\n",
              "      <td>3.57</td>\n",
              "      <td>2.91</td>\n",
              "      <td>0.71</td>\n",
              "    </tr>\n",
              "    <tr>\n",
              "      <th>Racing</th>\n",
              "      <td>31.36</td>\n",
              "      <td>40.99</td>\n",
              "      <td>5.61</td>\n",
              "      <td>10.75</td>\n",
              "    </tr>\n",
              "    <tr>\n",
              "      <th>Role-Playing</th>\n",
              "      <td>73.85</td>\n",
              "      <td>56.00</td>\n",
              "      <td>72.43</td>\n",
              "      <td>18.45</td>\n",
              "    </tr>\n",
              "    <tr>\n",
              "      <th>Shooter</th>\n",
              "      <td>184.53</td>\n",
              "      <td>142.54</td>\n",
              "      <td>11.42</td>\n",
              "      <td>46.71</td>\n",
              "    </tr>\n",
              "    <tr>\n",
              "      <th>Simulation</th>\n",
              "      <td>15.46</td>\n",
              "      <td>18.41</td>\n",
              "      <td>11.54</td>\n",
              "      <td>3.78</td>\n",
              "    </tr>\n",
              "    <tr>\n",
              "      <th>Sports</th>\n",
              "      <td>105.88</td>\n",
              "      <td>86.60</td>\n",
              "      <td>10.92</td>\n",
              "      <td>28.86</td>\n",
              "    </tr>\n",
              "    <tr>\n",
              "      <th>Strategy</th>\n",
              "      <td>7.47</td>\n",
              "      <td>7.79</td>\n",
              "      <td>4.58</td>\n",
              "      <td>1.99</td>\n",
              "    </tr>\n",
              "  </tbody>\n",
              "</table>\n",
              "</div>"
            ],
            "text/plain": [
              "              NA_Sales  EU_Sales  JP_Sales  Other_Sales\n",
              "Genre                                                  \n",
              "Action          226.08    199.24     61.80        64.98\n",
              "Adventure        14.34     13.83     11.72         4.39\n",
              "Fighting         31.10     16.55     12.23         6.77\n",
              "Misc             70.05     40.84     17.25        12.76\n",
              "Platform         38.31     30.12     12.07         8.25\n",
              "Puzzle            2.84      3.57      2.91         0.71\n",
              "Racing           31.36     40.99      5.61        10.75\n",
              "Role-Playing     73.85     56.00     72.43        18.45\n",
              "Shooter         184.53    142.54     11.42        46.71\n",
              "Simulation       15.46     18.41     11.54         3.78\n",
              "Sports          105.88     86.60     10.92        28.86\n",
              "Strategy          7.47      7.79      4.58         1.99"
            ]
          },
          "metadata": {
            "tags": []
          },
          "execution_count": 49
        }
      ]
    },
    {
      "cell_type": "code",
      "metadata": {
        "colab": {
          "base_uri": "https://localhost:8080/"
        },
        "id": "k9lCx4JQCFqx",
        "outputId": "0235d78a-47a1-4662-c8c3-f917f176eada"
      },
      "source": [
        "# 최근 10년간 지역별 Genre 출고량 조사 결과 시각화\n",
        "\n",
        "genre10_local = genre10_local.T\n",
        "genre10_local.plot(kind='bar',figsize=(15,6));\n",
        "plt.legend(loc='center left', bbox_to_anchor=(1, 0.5));"
      ],
      "execution_count": null,
      "outputs": [
        {
          "output_type": "display_data",
          "data": {
            "image/png": "[encoded data removed]",
            "text/plain": [
              "<Figure size 1080x432 with 1 Axes>"
            ]
          },
          "metadata": {
            "tags": [],
            "needs_background": "light"
          }
        }
      ]
    },
    {
      "cell_type": "markdown",
      "metadata": {
        "id": "Q-yQEMW5CRO4"
      },
      "source": [
        "- 북미 지역 : **Action > Shooter > Sports > Role-Playing > Misc**\n",
        "- 유럽 지역 : **Action > Shooter > Sports > Role-Playing > Misc**\n",
        "- 일본 지역 : Role-Playing > Action > Misc > Platform = Fighting\n",
        "- 기타 지역 : **Action > Shooter > Sports > Role-Playing > Misc**\n",
        "\n",
        "***결론 : 일본 지역 제외 북미, 유럽, 기타 지역에서는 최근 10년간의 선호 장르 1~5순위 모두 동일***"
      ]
    },
    {
      "cell_type": "markdown",
      "metadata": {
        "id": "2oMYAC0DDSjn"
      },
      "source": [
        "### **지역별 시장 점유율** "
      ]
    },
    {
      "cell_type": "code",
      "metadata": {
        "colab": {
          "base_uri": "https://localhost:8080/"
        },
        "id": "vbAtPkN2DhdT",
        "outputId": "10769b2d-92c4-4c97-d3c2-df12efe36d2b"
      },
      "source": [
        "# 최근 10년간의 지역별 시장 점유율 조사 \n",
        "\n",
        "np_all = df10['NA_Sales'].sum()\n",
        "eu_all = df10['EU_Sales'].sum()\n",
        "jp_all = df10['JP_Sales'].sum()\n",
        "ot_all = df10['Other_Sales'].sum()\n",
        "total_all = df10['Total_Sales'].sum()\n",
        "\n",
        "np_p = (np_all/total_all)*100\n",
        "eu_p = (eu_all/total_all)*100\n",
        "jp_p = (jp_all/total_all)*100\n",
        "ot_p = (ot_all/total_all)*100\n",
        "\n",
        "print('북미 지역 시장 점유율 : ', round(np_p,2) )\n",
        "print('유럽 지역 시장 점유율 : ', round(eu_p,2) )\n",
        "print('일본 지역 시장 점유율 : ', round(jp_p,2) )\n",
        "print('기타 지역 시장 점유율 : ', round(ot_p,2) )\n",
        "print('합계 : ', np_p+eu_p+jp_p+ot_p )"
      ],
      "execution_count": null,
      "outputs": [
        {
          "output_type": "stream",
          "text": [
            "북미 지역 시장 점유율 :  42.16\n",
            "유럽 지역 시장 점유율 :  34.54\n",
            "일본 지역 시장 점유율 :  12.34\n",
            "기타 지역 시장 점유율 :  10.96\n",
            "합계 :  100.0\n"
          ],
          "name": "stdout"
        }
      ]
    },
    {
      "cell_type": "markdown",
      "metadata": {
        "id": "gmOO9ZbPE9fZ"
      },
      "source": [
        "최근 10년간 지역별 시장 점유율 :\n",
        "\n",
        "북미 (42.16%)  >  유럽 (34.54%)  >  일본 (12.34%)  >  기타 지역 (10.96%)"
      ]
    }
  ]
}